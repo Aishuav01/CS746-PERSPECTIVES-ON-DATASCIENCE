{
  "cells": [
    {
      "cell_type": "markdown",
      "metadata": {
        "id": "view-in-github",
        "colab_type": "text"
      },
      "source": [
        "<a href=\"https://colab.research.google.com/github/Aishuav01/CS746-PERSPECTIVES-ON-DATASCIENCE/blob/main/CS746_HW3_Feature_Selection.ipynb\" target=\"_parent\"><img src=\"https://colab.research.google.com/assets/colab-badge.svg\" alt=\"Open In Colab\"/></a>"
      ]
    },
    {
      "cell_type": "markdown",
      "id": "cf4552c7",
      "metadata": {
        "id": "cf4552c7"
      },
      "source": [
        "**INSTRUCTIONS**\n",
        "\n",
        "Every learner should submit his/her own homework solutions. However, you are allowed to discuss the homework with each other– but everyone must submit his/her own solution; you may not copy someone else’s solution.\n",
        "\n",
        "The homework consists of two parts:\n",
        "\n",
        "    1. Data from our lives\n",
        "    2. Variable selection\n",
        "\n",
        "Follow the prompts in the attached jupyter notebook. \n",
        "\n",
        "**We are using the same data as for the previous homework**. Use the version you created called **df2** where you already cleaned, dropped some of the variables and also created the dummy variables.\n",
        "\n",
        "Add markdown cells to your analysis to include your solutions, comments, answers. Add as many cells as you need, for easy readability comment when possible. Hopefully this homework will help you develop skills, make you understand the flow of an EDA, get you ready for individual work.\n",
        "\n",
        "**Note:** This homework has a bonus question, so the highest mark that can be earned is a 105.\n",
        "\n",
        "Submission: Send in both a ipynb and a pdf file of your work.\n",
        "\n",
        "Good luck!\n"
      ]
    },
    {
      "cell_type": "markdown",
      "id": "24d0c393",
      "metadata": {
        "id": "24d0c393"
      },
      "source": [
        "# 1. Data from our lives:"
      ]
    },
    {
      "cell_type": "markdown",
      "source": [
        "# **Student data** may contain variables such as name, id, section, hobbies,marks, height, weight, hair_thickness, leg_size, has_sight, fav_color, fav_subject\n",
        "Such data will need feature selection/reduction in order to describe the student character we do not require variables such as height, weight, hair_thickness ,leg size or has_sight which we can get rid of."
      ],
      "metadata": {
        "id": "EVuN8SfJ9k4K"
      },
      "id": "EVuN8SfJ9k4K"
    },
    {
      "cell_type": "markdown",
      "id": "3dd3b2cd",
      "metadata": {
        "id": "3dd3b2cd"
      },
      "source": [
        "### Describe a situation or problem from your job, everyday life, current events, etc., for which a variable selection/feature reduction would be appropriate."
      ]
    },
    {
      "cell_type": "markdown",
      "id": "0eef2c7c",
      "metadata": {
        "id": "0eef2c7c"
      },
      "source": [
        "*Your Answer:*"
      ]
    },
    {
      "cell_type": "code",
      "execution_count": 200,
      "id": "46c90ba8",
      "metadata": {
        "id": "46c90ba8"
      },
      "outputs": [],
      "source": [
        ""
      ]
    },
    {
      "cell_type": "markdown",
      "id": "9efca705",
      "metadata": {
        "id": "9efca705"
      },
      "source": [
        "# 2. Variable selection"
      ]
    },
    {
      "cell_type": "markdown",
      "id": "df663623",
      "metadata": {
        "id": "df663623"
      },
      "source": [
        "In our class so far we covered three types of feature selection techniques. They were: \n",
        "1. Filter methods\n",
        "2. Wrapper methods\n",
        "3. Embedded methods"
      ]
    },
    {
      "cell_type": "markdown",
      "id": "5bc407fc",
      "metadata": {
        "id": "5bc407fc"
      },
      "source": [
        "Use the dataset 'auto_imports1.csv' from our previous homework. More specifically, use the version you created called **df2** where you already cleaned, dropped some of the variables and also created the dummy variables."
      ]
    },
    {
      "cell_type": "code",
      "execution_count": 106,
      "metadata": {
        "id": "cd0f90ba"
      },
      "outputs": [],
      "source": [
        "from scipy import stats\n",
        "from sklearn.linear_model import LinearRegression\n",
        "from statsmodels.compat import lzip\n",
        "from statsmodels.formula.api import ols\n",
        "from statsmodels.stats.anova import anova_lm\n",
        "from statsmodels.stats.outliers_influence import variance_inflation_factor\n",
        "import matplotlib\n",
        "import matplotlib.pyplot as plt\n",
        "import numpy as np\n",
        "import pandas as pd\n",
        "import seaborn as sns\n",
        "import statsmodels.api as sm\n",
        "\n",
        "%matplotlib inline"
      ],
      "id": "cd0f90ba"
    },
    {
      "cell_type": "code",
      "source": [
        "from google.colab import drive \n",
        "drive.mount('/content/gdrive')"
      ],
      "metadata": {
        "colab": {
          "base_uri": "https://localhost:8080/"
        },
        "id": "AcQG758SWcd5",
        "outputId": "dc54512f-1a4f-41b0-c256-13a5a4d9c976"
      },
      "id": "AcQG758SWcd5",
      "execution_count": 107,
      "outputs": [
        {
          "output_type": "stream",
          "name": "stdout",
          "text": [
            "Drive already mounted at /content/gdrive; to attempt to forcibly remount, call drive.mount(\"/content/gdrive\", force_remount=True).\n"
          ]
        }
      ]
    },
    {
      "cell_type": "code",
      "source": [
        "#Read in data\n",
        "df =pd.read_csv('gdrive/My Drive/auto_imports_cleaned_ver.csv')\n",
        "\n",
        "df.head()"
      ],
      "metadata": {
        "colab": {
          "base_uri": "https://localhost:8080/",
          "height": 206
        },
        "id": "d9uLGNiuXjgn",
        "outputId": "7dc00b28-54fc-4078-f707-d4f82f7cc20e"
      },
      "id": "d9uLGNiuXjgn",
      "execution_count": 108,
      "outputs": [
        {
          "output_type": "execute_result",
          "data": {
            "text/plain": [
              "   Unnamed: 0  wheel_base  length  width  heights  curb_weight  engine_size  \\\n",
              "0           0        88.6   168.8   64.1     48.8         2548          130   \n",
              "1           1        88.6   168.8   64.1     48.8         2548          130   \n",
              "2           2        94.5   171.2   65.5     52.4         2823          152   \n",
              "3           3        99.8   176.6   66.2     54.3         2337          109   \n",
              "4           4        99.4   176.6   66.4     54.3         2824          136   \n",
              "\n",
              "   bore  stroke  comprassion  horse_power  peak_rpm  city_mpg  highway_mpg  \\\n",
              "0  3.47    2.68          9.0        111.0    5000.0        21           27   \n",
              "1  3.47    2.68          9.0        111.0    5000.0        21           27   \n",
              "2  2.68    3.47          9.0        154.0    5000.0        19           26   \n",
              "3  3.19    3.40         10.0        102.0    5500.0        24           30   \n",
              "4  3.19    3.40          8.0        115.0    5500.0        18           22   \n",
              "\n",
              "   price  fuel_type_gas  \n",
              "0  13495              1  \n",
              "1  16500              1  \n",
              "2  16500              1  \n",
              "3  13950              1  \n",
              "4  17450              1  "
            ],
            "text/html": [
              "\n",
              "  <div id=\"df-5ae65951-a9d3-4c57-92c0-37412f256dd4\">\n",
              "    <div class=\"colab-df-container\">\n",
              "      <div>\n",
              "<style scoped>\n",
              "    .dataframe tbody tr th:only-of-type {\n",
              "        vertical-align: middle;\n",
              "    }\n",
              "\n",
              "    .dataframe tbody tr th {\n",
              "        vertical-align: top;\n",
              "    }\n",
              "\n",
              "    .dataframe thead th {\n",
              "        text-align: right;\n",
              "    }\n",
              "</style>\n",
              "<table border=\"1\" class=\"dataframe\">\n",
              "  <thead>\n",
              "    <tr style=\"text-align: right;\">\n",
              "      <th></th>\n",
              "      <th>Unnamed: 0</th>\n",
              "      <th>wheel_base</th>\n",
              "      <th>length</th>\n",
              "      <th>width</th>\n",
              "      <th>heights</th>\n",
              "      <th>curb_weight</th>\n",
              "      <th>engine_size</th>\n",
              "      <th>bore</th>\n",
              "      <th>stroke</th>\n",
              "      <th>comprassion</th>\n",
              "      <th>horse_power</th>\n",
              "      <th>peak_rpm</th>\n",
              "      <th>city_mpg</th>\n",
              "      <th>highway_mpg</th>\n",
              "      <th>price</th>\n",
              "      <th>fuel_type_gas</th>\n",
              "    </tr>\n",
              "  </thead>\n",
              "  <tbody>\n",
              "    <tr>\n",
              "      <th>0</th>\n",
              "      <td>0</td>\n",
              "      <td>88.6</td>\n",
              "      <td>168.8</td>\n",
              "      <td>64.1</td>\n",
              "      <td>48.8</td>\n",
              "      <td>2548</td>\n",
              "      <td>130</td>\n",
              "      <td>3.47</td>\n",
              "      <td>2.68</td>\n",
              "      <td>9.0</td>\n",
              "      <td>111.0</td>\n",
              "      <td>5000.0</td>\n",
              "      <td>21</td>\n",
              "      <td>27</td>\n",
              "      <td>13495</td>\n",
              "      <td>1</td>\n",
              "    </tr>\n",
              "    <tr>\n",
              "      <th>1</th>\n",
              "      <td>1</td>\n",
              "      <td>88.6</td>\n",
              "      <td>168.8</td>\n",
              "      <td>64.1</td>\n",
              "      <td>48.8</td>\n",
              "      <td>2548</td>\n",
              "      <td>130</td>\n",
              "      <td>3.47</td>\n",
              "      <td>2.68</td>\n",
              "      <td>9.0</td>\n",
              "      <td>111.0</td>\n",
              "      <td>5000.0</td>\n",
              "      <td>21</td>\n",
              "      <td>27</td>\n",
              "      <td>16500</td>\n",
              "      <td>1</td>\n",
              "    </tr>\n",
              "    <tr>\n",
              "      <th>2</th>\n",
              "      <td>2</td>\n",
              "      <td>94.5</td>\n",
              "      <td>171.2</td>\n",
              "      <td>65.5</td>\n",
              "      <td>52.4</td>\n",
              "      <td>2823</td>\n",
              "      <td>152</td>\n",
              "      <td>2.68</td>\n",
              "      <td>3.47</td>\n",
              "      <td>9.0</td>\n",
              "      <td>154.0</td>\n",
              "      <td>5000.0</td>\n",
              "      <td>19</td>\n",
              "      <td>26</td>\n",
              "      <td>16500</td>\n",
              "      <td>1</td>\n",
              "    </tr>\n",
              "    <tr>\n",
              "      <th>3</th>\n",
              "      <td>3</td>\n",
              "      <td>99.8</td>\n",
              "      <td>176.6</td>\n",
              "      <td>66.2</td>\n",
              "      <td>54.3</td>\n",
              "      <td>2337</td>\n",
              "      <td>109</td>\n",
              "      <td>3.19</td>\n",
              "      <td>3.40</td>\n",
              "      <td>10.0</td>\n",
              "      <td>102.0</td>\n",
              "      <td>5500.0</td>\n",
              "      <td>24</td>\n",
              "      <td>30</td>\n",
              "      <td>13950</td>\n",
              "      <td>1</td>\n",
              "    </tr>\n",
              "    <tr>\n",
              "      <th>4</th>\n",
              "      <td>4</td>\n",
              "      <td>99.4</td>\n",
              "      <td>176.6</td>\n",
              "      <td>66.4</td>\n",
              "      <td>54.3</td>\n",
              "      <td>2824</td>\n",
              "      <td>136</td>\n",
              "      <td>3.19</td>\n",
              "      <td>3.40</td>\n",
              "      <td>8.0</td>\n",
              "      <td>115.0</td>\n",
              "      <td>5500.0</td>\n",
              "      <td>18</td>\n",
              "      <td>22</td>\n",
              "      <td>17450</td>\n",
              "      <td>1</td>\n",
              "    </tr>\n",
              "  </tbody>\n",
              "</table>\n",
              "</div>\n",
              "      <button class=\"colab-df-convert\" onclick=\"convertToInteractive('df-5ae65951-a9d3-4c57-92c0-37412f256dd4')\"\n",
              "              title=\"Convert this dataframe to an interactive table.\"\n",
              "              style=\"display:none;\">\n",
              "        \n",
              "  <svg xmlns=\"http://www.w3.org/2000/svg\" height=\"24px\"viewBox=\"0 0 24 24\"\n",
              "       width=\"24px\">\n",
              "    <path d=\"M0 0h24v24H0V0z\" fill=\"none\"/>\n",
              "    <path d=\"M18.56 5.44l.94 2.06.94-2.06 2.06-.94-2.06-.94-.94-2.06-.94 2.06-2.06.94zm-11 1L8.5 8.5l.94-2.06 2.06-.94-2.06-.94L8.5 2.5l-.94 2.06-2.06.94zm10 10l.94 2.06.94-2.06 2.06-.94-2.06-.94-.94-2.06-.94 2.06-2.06.94z\"/><path d=\"M17.41 7.96l-1.37-1.37c-.4-.4-.92-.59-1.43-.59-.52 0-1.04.2-1.43.59L10.3 9.45l-7.72 7.72c-.78.78-.78 2.05 0 2.83L4 21.41c.39.39.9.59 1.41.59.51 0 1.02-.2 1.41-.59l7.78-7.78 2.81-2.81c.8-.78.8-2.07 0-2.86zM5.41 20L4 18.59l7.72-7.72 1.47 1.35L5.41 20z\"/>\n",
              "  </svg>\n",
              "      </button>\n",
              "      \n",
              "  <style>\n",
              "    .colab-df-container {\n",
              "      display:flex;\n",
              "      flex-wrap:wrap;\n",
              "      gap: 12px;\n",
              "    }\n",
              "\n",
              "    .colab-df-convert {\n",
              "      background-color: #E8F0FE;\n",
              "      border: none;\n",
              "      border-radius: 50%;\n",
              "      cursor: pointer;\n",
              "      display: none;\n",
              "      fill: #1967D2;\n",
              "      height: 32px;\n",
              "      padding: 0 0 0 0;\n",
              "      width: 32px;\n",
              "    }\n",
              "\n",
              "    .colab-df-convert:hover {\n",
              "      background-color: #E2EBFA;\n",
              "      box-shadow: 0px 1px 2px rgba(60, 64, 67, 0.3), 0px 1px 3px 1px rgba(60, 64, 67, 0.15);\n",
              "      fill: #174EA6;\n",
              "    }\n",
              "\n",
              "    [theme=dark] .colab-df-convert {\n",
              "      background-color: #3B4455;\n",
              "      fill: #D2E3FC;\n",
              "    }\n",
              "\n",
              "    [theme=dark] .colab-df-convert:hover {\n",
              "      background-color: #434B5C;\n",
              "      box-shadow: 0px 1px 3px 1px rgba(0, 0, 0, 0.15);\n",
              "      filter: drop-shadow(0px 1px 2px rgba(0, 0, 0, 0.3));\n",
              "      fill: #FFFFFF;\n",
              "    }\n",
              "  </style>\n",
              "\n",
              "      <script>\n",
              "        const buttonEl =\n",
              "          document.querySelector('#df-5ae65951-a9d3-4c57-92c0-37412f256dd4 button.colab-df-convert');\n",
              "        buttonEl.style.display =\n",
              "          google.colab.kernel.accessAllowed ? 'block' : 'none';\n",
              "\n",
              "        async function convertToInteractive(key) {\n",
              "          const element = document.querySelector('#df-5ae65951-a9d3-4c57-92c0-37412f256dd4');\n",
              "          const dataTable =\n",
              "            await google.colab.kernel.invokeFunction('convertToInteractive',\n",
              "                                                     [key], {});\n",
              "          if (!dataTable) return;\n",
              "\n",
              "          const docLinkHtml = 'Like what you see? Visit the ' +\n",
              "            '<a target=\"_blank\" href=https://colab.research.google.com/notebooks/data_table.ipynb>data table notebook</a>'\n",
              "            + ' to learn more about interactive tables.';\n",
              "          element.innerHTML = '';\n",
              "          dataTable['output_type'] = 'display_data';\n",
              "          await google.colab.output.renderOutput(dataTable, element);\n",
              "          const docLink = document.createElement('div');\n",
              "          docLink.innerHTML = docLinkHtml;\n",
              "          element.appendChild(docLink);\n",
              "        }\n",
              "      </script>\n",
              "    </div>\n",
              "  </div>\n",
              "  "
            ]
          },
          "metadata": {},
          "execution_count": 108
        }
      ]
    },
    {
      "cell_type": "code",
      "source": [
        "df = df.drop(df.columns[0], axis=1)"
      ],
      "metadata": {
        "id": "jkGvHarYYXUn"
      },
      "id": "jkGvHarYYXUn",
      "execution_count": 109,
      "outputs": []
    },
    {
      "cell_type": "code",
      "source": [
        "df.head()"
      ],
      "metadata": {
        "colab": {
          "base_uri": "https://localhost:8080/",
          "height": 206
        },
        "id": "UPRdCfkk3ZF3",
        "outputId": "96e85e8c-bfd9-4d67-ecbc-77f910134727"
      },
      "id": "UPRdCfkk3ZF3",
      "execution_count": 110,
      "outputs": [
        {
          "output_type": "execute_result",
          "data": {
            "text/plain": [
              "   wheel_base  length  width  heights  curb_weight  engine_size  bore  stroke  \\\n",
              "0        88.6   168.8   64.1     48.8         2548          130  3.47    2.68   \n",
              "1        88.6   168.8   64.1     48.8         2548          130  3.47    2.68   \n",
              "2        94.5   171.2   65.5     52.4         2823          152  2.68    3.47   \n",
              "3        99.8   176.6   66.2     54.3         2337          109  3.19    3.40   \n",
              "4        99.4   176.6   66.4     54.3         2824          136  3.19    3.40   \n",
              "\n",
              "   comprassion  horse_power  peak_rpm  city_mpg  highway_mpg  price  \\\n",
              "0          9.0        111.0    5000.0        21           27  13495   \n",
              "1          9.0        111.0    5000.0        21           27  16500   \n",
              "2          9.0        154.0    5000.0        19           26  16500   \n",
              "3         10.0        102.0    5500.0        24           30  13950   \n",
              "4          8.0        115.0    5500.0        18           22  17450   \n",
              "\n",
              "   fuel_type_gas  \n",
              "0              1  \n",
              "1              1  \n",
              "2              1  \n",
              "3              1  \n",
              "4              1  "
            ],
            "text/html": [
              "\n",
              "  <div id=\"df-5c686c75-57f1-4935-9772-bae845ac9e00\">\n",
              "    <div class=\"colab-df-container\">\n",
              "      <div>\n",
              "<style scoped>\n",
              "    .dataframe tbody tr th:only-of-type {\n",
              "        vertical-align: middle;\n",
              "    }\n",
              "\n",
              "    .dataframe tbody tr th {\n",
              "        vertical-align: top;\n",
              "    }\n",
              "\n",
              "    .dataframe thead th {\n",
              "        text-align: right;\n",
              "    }\n",
              "</style>\n",
              "<table border=\"1\" class=\"dataframe\">\n",
              "  <thead>\n",
              "    <tr style=\"text-align: right;\">\n",
              "      <th></th>\n",
              "      <th>wheel_base</th>\n",
              "      <th>length</th>\n",
              "      <th>width</th>\n",
              "      <th>heights</th>\n",
              "      <th>curb_weight</th>\n",
              "      <th>engine_size</th>\n",
              "      <th>bore</th>\n",
              "      <th>stroke</th>\n",
              "      <th>comprassion</th>\n",
              "      <th>horse_power</th>\n",
              "      <th>peak_rpm</th>\n",
              "      <th>city_mpg</th>\n",
              "      <th>highway_mpg</th>\n",
              "      <th>price</th>\n",
              "      <th>fuel_type_gas</th>\n",
              "    </tr>\n",
              "  </thead>\n",
              "  <tbody>\n",
              "    <tr>\n",
              "      <th>0</th>\n",
              "      <td>88.6</td>\n",
              "      <td>168.8</td>\n",
              "      <td>64.1</td>\n",
              "      <td>48.8</td>\n",
              "      <td>2548</td>\n",
              "      <td>130</td>\n",
              "      <td>3.47</td>\n",
              "      <td>2.68</td>\n",
              "      <td>9.0</td>\n",
              "      <td>111.0</td>\n",
              "      <td>5000.0</td>\n",
              "      <td>21</td>\n",
              "      <td>27</td>\n",
              "      <td>13495</td>\n",
              "      <td>1</td>\n",
              "    </tr>\n",
              "    <tr>\n",
              "      <th>1</th>\n",
              "      <td>88.6</td>\n",
              "      <td>168.8</td>\n",
              "      <td>64.1</td>\n",
              "      <td>48.8</td>\n",
              "      <td>2548</td>\n",
              "      <td>130</td>\n",
              "      <td>3.47</td>\n",
              "      <td>2.68</td>\n",
              "      <td>9.0</td>\n",
              "      <td>111.0</td>\n",
              "      <td>5000.0</td>\n",
              "      <td>21</td>\n",
              "      <td>27</td>\n",
              "      <td>16500</td>\n",
              "      <td>1</td>\n",
              "    </tr>\n",
              "    <tr>\n",
              "      <th>2</th>\n",
              "      <td>94.5</td>\n",
              "      <td>171.2</td>\n",
              "      <td>65.5</td>\n",
              "      <td>52.4</td>\n",
              "      <td>2823</td>\n",
              "      <td>152</td>\n",
              "      <td>2.68</td>\n",
              "      <td>3.47</td>\n",
              "      <td>9.0</td>\n",
              "      <td>154.0</td>\n",
              "      <td>5000.0</td>\n",
              "      <td>19</td>\n",
              "      <td>26</td>\n",
              "      <td>16500</td>\n",
              "      <td>1</td>\n",
              "    </tr>\n",
              "    <tr>\n",
              "      <th>3</th>\n",
              "      <td>99.8</td>\n",
              "      <td>176.6</td>\n",
              "      <td>66.2</td>\n",
              "      <td>54.3</td>\n",
              "      <td>2337</td>\n",
              "      <td>109</td>\n",
              "      <td>3.19</td>\n",
              "      <td>3.40</td>\n",
              "      <td>10.0</td>\n",
              "      <td>102.0</td>\n",
              "      <td>5500.0</td>\n",
              "      <td>24</td>\n",
              "      <td>30</td>\n",
              "      <td>13950</td>\n",
              "      <td>1</td>\n",
              "    </tr>\n",
              "    <tr>\n",
              "      <th>4</th>\n",
              "      <td>99.4</td>\n",
              "      <td>176.6</td>\n",
              "      <td>66.4</td>\n",
              "      <td>54.3</td>\n",
              "      <td>2824</td>\n",
              "      <td>136</td>\n",
              "      <td>3.19</td>\n",
              "      <td>3.40</td>\n",
              "      <td>8.0</td>\n",
              "      <td>115.0</td>\n",
              "      <td>5500.0</td>\n",
              "      <td>18</td>\n",
              "      <td>22</td>\n",
              "      <td>17450</td>\n",
              "      <td>1</td>\n",
              "    </tr>\n",
              "  </tbody>\n",
              "</table>\n",
              "</div>\n",
              "      <button class=\"colab-df-convert\" onclick=\"convertToInteractive('df-5c686c75-57f1-4935-9772-bae845ac9e00')\"\n",
              "              title=\"Convert this dataframe to an interactive table.\"\n",
              "              style=\"display:none;\">\n",
              "        \n",
              "  <svg xmlns=\"http://www.w3.org/2000/svg\" height=\"24px\"viewBox=\"0 0 24 24\"\n",
              "       width=\"24px\">\n",
              "    <path d=\"M0 0h24v24H0V0z\" fill=\"none\"/>\n",
              "    <path d=\"M18.56 5.44l.94 2.06.94-2.06 2.06-.94-2.06-.94-.94-2.06-.94 2.06-2.06.94zm-11 1L8.5 8.5l.94-2.06 2.06-.94-2.06-.94L8.5 2.5l-.94 2.06-2.06.94zm10 10l.94 2.06.94-2.06 2.06-.94-2.06-.94-.94-2.06-.94 2.06-2.06.94z\"/><path d=\"M17.41 7.96l-1.37-1.37c-.4-.4-.92-.59-1.43-.59-.52 0-1.04.2-1.43.59L10.3 9.45l-7.72 7.72c-.78.78-.78 2.05 0 2.83L4 21.41c.39.39.9.59 1.41.59.51 0 1.02-.2 1.41-.59l7.78-7.78 2.81-2.81c.8-.78.8-2.07 0-2.86zM5.41 20L4 18.59l7.72-7.72 1.47 1.35L5.41 20z\"/>\n",
              "  </svg>\n",
              "      </button>\n",
              "      \n",
              "  <style>\n",
              "    .colab-df-container {\n",
              "      display:flex;\n",
              "      flex-wrap:wrap;\n",
              "      gap: 12px;\n",
              "    }\n",
              "\n",
              "    .colab-df-convert {\n",
              "      background-color: #E8F0FE;\n",
              "      border: none;\n",
              "      border-radius: 50%;\n",
              "      cursor: pointer;\n",
              "      display: none;\n",
              "      fill: #1967D2;\n",
              "      height: 32px;\n",
              "      padding: 0 0 0 0;\n",
              "      width: 32px;\n",
              "    }\n",
              "\n",
              "    .colab-df-convert:hover {\n",
              "      background-color: #E2EBFA;\n",
              "      box-shadow: 0px 1px 2px rgba(60, 64, 67, 0.3), 0px 1px 3px 1px rgba(60, 64, 67, 0.15);\n",
              "      fill: #174EA6;\n",
              "    }\n",
              "\n",
              "    [theme=dark] .colab-df-convert {\n",
              "      background-color: #3B4455;\n",
              "      fill: #D2E3FC;\n",
              "    }\n",
              "\n",
              "    [theme=dark] .colab-df-convert:hover {\n",
              "      background-color: #434B5C;\n",
              "      box-shadow: 0px 1px 3px 1px rgba(0, 0, 0, 0.15);\n",
              "      filter: drop-shadow(0px 1px 2px rgba(0, 0, 0, 0.3));\n",
              "      fill: #FFFFFF;\n",
              "    }\n",
              "  </style>\n",
              "\n",
              "      <script>\n",
              "        const buttonEl =\n",
              "          document.querySelector('#df-5c686c75-57f1-4935-9772-bae845ac9e00 button.colab-df-convert');\n",
              "        buttonEl.style.display =\n",
              "          google.colab.kernel.accessAllowed ? 'block' : 'none';\n",
              "\n",
              "        async function convertToInteractive(key) {\n",
              "          const element = document.querySelector('#df-5c686c75-57f1-4935-9772-bae845ac9e00');\n",
              "          const dataTable =\n",
              "            await google.colab.kernel.invokeFunction('convertToInteractive',\n",
              "                                                     [key], {});\n",
              "          if (!dataTable) return;\n",
              "\n",
              "          const docLinkHtml = 'Like what you see? Visit the ' +\n",
              "            '<a target=\"_blank\" href=https://colab.research.google.com/notebooks/data_table.ipynb>data table notebook</a>'\n",
              "            + ' to learn more about interactive tables.';\n",
              "          element.innerHTML = '';\n",
              "          dataTable['output_type'] = 'display_data';\n",
              "          await google.colab.output.renderOutput(dataTable, element);\n",
              "          const docLink = document.createElement('div');\n",
              "          docLink.innerHTML = docLinkHtml;\n",
              "          element.appendChild(docLink);\n",
              "        }\n",
              "      </script>\n",
              "    </div>\n",
              "  </div>\n",
              "  "
            ]
          },
          "metadata": {},
          "execution_count": 110
        }
      ]
    },
    {
      "cell_type": "markdown",
      "id": "43e6f8f4",
      "metadata": {
        "id": "43e6f8f4"
      },
      "source": [
        "### 2.1. Filtered methods\n",
        "\n",
        "Choose one (you may do more, one is required) of the filtered methods to conduct variable selection. Report your findigs"
      ]
    },
    {
      "cell_type": "markdown",
      "source": [
        "We can observe that our input is numerical data and assuming the output is numerical as well, we can use the pearson's correlation filter method for feature selection."
      ],
      "metadata": {
        "id": "wYA0YfS7ajD3"
      },
      "id": "wYA0YfS7ajD3"
    },
    {
      "cell_type": "code",
      "execution_count": 111,
      "id": "bbba7a18",
      "metadata": {
        "id": "bbba7a18"
      },
      "outputs": [],
      "source": [
        "from sklearn.feature_selection import SelectKBest\n",
        "from sklearn.feature_selection import f_regression\n",
        "from numpy import array"
      ]
    },
    {
      "cell_type": "code",
      "source": [
        "X= df.drop(columns=[\"price\"])\n",
        "#Dependent variable price\n",
        "y=df['price'].values.reshape(-1,1)\n",
        "print(X)"
      ],
      "metadata": {
        "colab": {
          "base_uri": "https://localhost:8080/"
        },
        "id": "d6qoigNybsfX",
        "outputId": "0b7b97a7-931d-40df-d468-38af69665429"
      },
      "id": "d6qoigNybsfX",
      "execution_count": 112,
      "outputs": [
        {
          "output_type": "stream",
          "name": "stdout",
          "text": [
            "     wheel_base  length  width  heights  curb_weight  engine_size  bore  \\\n",
            "0          88.6   168.8   64.1     48.8         2548          130  3.47   \n",
            "1          88.6   168.8   64.1     48.8         2548          130  3.47   \n",
            "2          94.5   171.2   65.5     52.4         2823          152  2.68   \n",
            "3          99.8   176.6   66.2     54.3         2337          109  3.19   \n",
            "4          99.4   176.6   66.4     54.3         2824          136  3.19   \n",
            "..          ...     ...    ...      ...          ...          ...   ...   \n",
            "196       109.1   188.8   68.9     55.5         2952          141  3.78   \n",
            "197       109.1   188.8   68.8     55.5         3049          141  3.78   \n",
            "198       109.1   188.8   68.9     55.5         3012          173  3.58   \n",
            "199       109.1   188.8   68.9     55.5         3217          145  3.01   \n",
            "200       109.1   188.8   68.9     55.5         3062          141  3.78   \n",
            "\n",
            "     stroke  comprassion  horse_power  peak_rpm  city_mpg  highway_mpg  \\\n",
            "0      2.68          9.0        111.0    5000.0        21           27   \n",
            "1      2.68          9.0        111.0    5000.0        21           27   \n",
            "2      3.47          9.0        154.0    5000.0        19           26   \n",
            "3      3.40         10.0        102.0    5500.0        24           30   \n",
            "4      3.40          8.0        115.0    5500.0        18           22   \n",
            "..      ...          ...          ...       ...       ...          ...   \n",
            "196    3.15          9.5        114.0    5400.0        23           28   \n",
            "197    3.15          8.7        160.0    5300.0        19           25   \n",
            "198    2.87          8.8        134.0    5500.0        18           23   \n",
            "199    3.40         23.0        106.0    4800.0        26           27   \n",
            "200    3.15          9.5        114.0    5400.0        19           25   \n",
            "\n",
            "     fuel_type_gas  \n",
            "0                1  \n",
            "1                1  \n",
            "2                1  \n",
            "3                1  \n",
            "4                1  \n",
            "..             ...  \n",
            "196              1  \n",
            "197              1  \n",
            "198              1  \n",
            "199              0  \n",
            "200              1  \n",
            "\n",
            "[201 rows x 14 columns]\n"
          ]
        }
      ]
    },
    {
      "cell_type": "markdown",
      "source": [
        "Using F-regression"
      ],
      "metadata": {
        "id": "HVoas7RKqrof"
      },
      "id": "HVoas7RKqrof"
    },
    {
      "cell_type": "code",
      "source": [
        "print(df.shape)\n",
        "feature_select = SelectKBest(score_func=f_regression, k=5)\n",
        "feature_selected = feature_select.fit_transform(X,y)"
      ],
      "metadata": {
        "colab": {
          "base_uri": "https://localhost:8080/"
        },
        "id": "SPk-MC1Ha7zS",
        "outputId": "94fea748-be97-460b-f36f-62c18ee6365e"
      },
      "id": "SPk-MC1Ha7zS",
      "execution_count": 113,
      "outputs": [
        {
          "output_type": "stream",
          "name": "stdout",
          "text": [
            "(201, 15)\n"
          ]
        },
        {
          "output_type": "stream",
          "name": "stderr",
          "text": [
            "/usr/local/lib/python3.7/dist-packages/sklearn/utils/validation.py:993: DataConversionWarning: A column-vector y was passed when a 1d array was expected. Please change the shape of y to (n_samples, ), for example using ravel().\n",
            "  y = column_or_1d(y, warn=True)\n"
          ]
        }
      ]
    },
    {
      "cell_type": "code",
      "source": [
        "print(\"Originial no. of features: \", df.shape[1]-1)\n",
        "print(\"Selected no. of features :\",feature_selected.shape[1])"
      ],
      "metadata": {
        "colab": {
          "base_uri": "https://localhost:8080/"
        },
        "id": "V1mWtAa7b5lr",
        "outputId": "85d40a8c-e3cc-4940-b86e-f38441624cbf"
      },
      "id": "V1mWtAa7b5lr",
      "execution_count": 114,
      "outputs": [
        {
          "output_type": "stream",
          "name": "stdout",
          "text": [
            "Originial no. of features:  14\n",
            "Selected no. of features : 5\n"
          ]
        }
      ]
    },
    {
      "cell_type": "code",
      "source": [
        "filtered = feature_select.get_support()\n",
        "features = array(df.columns.all)\n",
        " \n",
        "print(\"All features:\")\n",
        "print(features)\n",
        "print()\n",
        "print(\"Selected best 5 predictors:\")\n",
        "for i in range(df.columns.size-1):\n",
        "  if(filtered[i] == True):\n",
        "    print(df.columns[i])\n"
      ],
      "metadata": {
        "colab": {
          "base_uri": "https://localhost:8080/"
        },
        "id": "O_pBrl3hci3F",
        "outputId": "50ee825c-b905-48bd-ed70-b534ed94d385"
      },
      "id": "O_pBrl3hci3F",
      "execution_count": 194,
      "outputs": [
        {
          "output_type": "stream",
          "name": "stdout",
          "text": [
            "All features:\n",
            "<bound method Index.all of Index(['wheel_base', 'length', 'width', 'heights', 'curb_weight',\n",
            "       'engine_size', 'bore', 'stroke', 'comprassion', 'horse_power',\n",
            "       'peak_rpm', 'city_mpg', 'highway_mpg', 'price', 'fuel_type_gas'],\n",
            "      dtype='object')>\n",
            "\n",
            "Selected best 5 predictors:\n",
            "width\n",
            "curb_weight\n",
            "engine_size\n",
            "horse_power\n",
            "highway_mpg\n"
          ]
        }
      ]
    },
    {
      "cell_type": "markdown",
      "source": [
        "**Findings** :\n",
        "From the avaible 14 features, the best 5 features were selected using the pearson's correlation filter method with respect to target variable price.\n",
        "width\n",
        "curb_weight\n",
        "engine_size\n",
        "horse_power\n",
        "highway_mpg"
      ],
      "metadata": {
        "id": "Yy4pabTlurHU"
      },
      "id": "Yy4pabTlurHU"
    },
    {
      "cell_type": "markdown",
      "id": "e0cdd874",
      "metadata": {
        "id": "e0cdd874"
      },
      "source": [
        "### 2.2. Wrapper methods\n",
        "\n",
        "Choose one (you may do more, one is required) of the wrapper methods to conduct variable selection. Report your findigs."
      ]
    },
    {
      "cell_type": "markdown",
      "source": [
        "# Forward Selection Wrapper Method\n",
        "SequentialFeatureSelector"
      ],
      "metadata": {
        "id": "7UfMN8eux4iw"
      },
      "id": "7UfMN8eux4iw"
    },
    {
      "cell_type": "code",
      "source": [
        "from sklearn.feature_selection import SequentialFeatureSelector as SFS\n",
        "from sklearn.linear_model import LinearRegression\n",
        "from sklearn.neighbors import KNeighborsClassifier"
      ],
      "metadata": {
        "id": "v6Q88Zqhx_q4"
      },
      "id": "v6Q88Zqhx_q4",
      "execution_count": 116,
      "outputs": []
    },
    {
      "cell_type": "code",
      "source": [
        "#Define Sequential Forward Selection (sfs)\n",
        "knn = KNeighborsClassifier(n_neighbors=3)\n",
        "sfs = SFS(knn, n_features_to_select=5, cv=2)\n",
        "\n",
        "X= df.drop(columns=[\"price\"])\n",
        "#Dependent variable price\n",
        "y=df['price'].values.reshape(-1,1)\n",
        "\n",
        "#Use SFS to select the top 5 features \n",
        "\n",
        "sfs.fit(X, y)\n",
        "\n",
        "\n"
      ],
      "metadata": {
        "id": "yjt-DuRivd5m"
      },
      "id": "yjt-DuRivd5m",
      "execution_count": null,
      "outputs": []
    },
    {
      "cell_type": "code",
      "source": [
        "print(\"Originial no. of features: \", df.shape[1]-1)\n",
        "print(\"Selected no. of best features :\",sfs.transform(X).shape[1])"
      ],
      "metadata": {
        "colab": {
          "base_uri": "https://localhost:8080/"
        },
        "id": "TBQi_h7Q04XA",
        "outputId": "5fa584d8-63ef-4357-86ce-e44f0ecf9ff3"
      },
      "id": "TBQi_h7Q04XA",
      "execution_count": 118,
      "outputs": [
        {
          "output_type": "stream",
          "name": "stdout",
          "text": [
            "Originial no. of features:  14\n",
            "Selected no. of best features : 5\n"
          ]
        }
      ]
    },
    {
      "cell_type": "code",
      "source": [
        "forward_selected = sfs.get_support()\n",
        "print(sfs.get_params) \n",
        "print(sfs.get_feature_names_out())\n",
        "print(\"All feature.s:\")\n",
        "print(df.columns.all)\n",
        "print()\n",
        "print(\"Selected best 5 predictors:\")\n",
        "for i in range(df.columns.size):\n",
        "  if( i<len(forward_selected) and forward_selected[i] == True):\n",
        "    print(df.columns[i])"
      ],
      "metadata": {
        "colab": {
          "base_uri": "https://localhost:8080/"
        },
        "id": "n_i3IJrZ06Fj",
        "outputId": "7c984faf-540c-4943-af45-dd1c0b857c19"
      },
      "id": "n_i3IJrZ06Fj",
      "execution_count": 200,
      "outputs": [
        {
          "output_type": "stream",
          "name": "stdout",
          "text": [
            "<bound method BaseEstimator.get_params of SequentialFeatureSelector(cv=2, direction='backward',\n",
            "                          estimator=KNeighborsClassifier(n_neighbors=3),\n",
            "                          n_features_to_select=5)>\n",
            "['wheel_base' 'width' 'heights' 'engine_size' 'bore']\n",
            "All feature.s:\n",
            "<bound method Index.all of Index(['wheel_base', 'length', 'width', 'heights', 'curb_weight',\n",
            "       'engine_size', 'bore', 'stroke', 'comprassion', 'horse_power',\n",
            "       'peak_rpm', 'city_mpg', 'highway_mpg', 'price', 'fuel_type_gas'],\n",
            "      dtype='object')>\n",
            "\n",
            "Selected best 5 predictors:\n",
            "wheel_base\n",
            "width\n",
            "heights\n",
            "engine_size\n",
            "bore\n"
          ]
        }
      ]
    },
    {
      "cell_type": "markdown",
      "source": [
        "**Findings:** Observed that through forward feature selection using 2-fold split selected 5 best predictors [ wheel_base, length,heights,engine_size ,horse_power] which are not similar to filter method that we used earlier.\n",
        "\n",
        "I had made a mistake here where I used X=sm.add_constants while splitting the train/test split but later on realized it was adding a const table and my results were, corrected it is using df.iloc[] to split."
      ],
      "metadata": {
        "id": "ROo6-iWD7vor"
      },
      "id": "ROo6-iWD7vor"
    },
    {
      "cell_type": "markdown",
      "source": [
        "# Backward Selection Wrapper Method"
      ],
      "metadata": {
        "id": "Pt5yJwJP8xrD"
      },
      "id": "Pt5yJwJP8xrD"
    },
    {
      "cell_type": "code",
      "source": [
        "#Define Sequential Forward Selection (sfs)\n",
        "knn = KNeighborsClassifier(n_neighbors=3)\n",
        "sfs = SFS(knn, n_features_to_select=5, cv=2, direction=\"backward\")\n",
        "\n",
        "X= df.iloc[:,:7]\n",
        "#Dependent variable price\n",
        "y=df['price'].values.reshape(-1,1)\n",
        "print(X)\n",
        "#Use SFS to select the top 5 features \n",
        "\n",
        "sfs.fit(X, y)\n"
      ],
      "metadata": {
        "colab": {
          "base_uri": "https://localhost:8080/"
        },
        "id": "ocuL-txj82MU",
        "outputId": "5376d31a-8013-4ab0-e051-dcb85f626513"
      },
      "id": "ocuL-txj82MU",
      "execution_count": 120,
      "outputs": [
        {
          "output_type": "stream",
          "name": "stderr",
          "text": [
            "/usr/local/lib/python3.7/dist-packages/sklearn/model_selection/_split.py:680: UserWarning: The least populated class in y has only 1 members, which is less than n_splits=2.\n",
            "  UserWarning,\n",
            "/usr/local/lib/python3.7/dist-packages/sklearn/neighbors/_classification.py:198: DataConversionWarning: A column-vector y was passed when a 1d array was expected. Please change the shape of y to (n_samples,), for example using ravel().\n",
            "  return self._fit(X, y)\n",
            "/usr/local/lib/python3.7/dist-packages/sklearn/neighbors/_classification.py:198: DataConversionWarning: A column-vector y was passed when a 1d array was expected. Please change the shape of y to (n_samples,), for example using ravel().\n",
            "  return self._fit(X, y)\n",
            "/usr/local/lib/python3.7/dist-packages/sklearn/model_selection/_split.py:680: UserWarning: The least populated class in y has only 1 members, which is less than n_splits=2.\n",
            "  UserWarning,\n",
            "/usr/local/lib/python3.7/dist-packages/sklearn/neighbors/_classification.py:198: DataConversionWarning: A column-vector y was passed when a 1d array was expected. Please change the shape of y to (n_samples,), for example using ravel().\n",
            "  return self._fit(X, y)\n",
            "/usr/local/lib/python3.7/dist-packages/sklearn/neighbors/_classification.py:198: DataConversionWarning: A column-vector y was passed when a 1d array was expected. Please change the shape of y to (n_samples,), for example using ravel().\n",
            "  return self._fit(X, y)\n",
            "/usr/local/lib/python3.7/dist-packages/sklearn/model_selection/_split.py:680: UserWarning: The least populated class in y has only 1 members, which is less than n_splits=2.\n",
            "  UserWarning,\n"
          ]
        },
        {
          "output_type": "stream",
          "name": "stdout",
          "text": [
            "     wheel_base  length  width  heights  curb_weight  engine_size  bore\n",
            "0          88.6   168.8   64.1     48.8         2548          130  3.47\n",
            "1          88.6   168.8   64.1     48.8         2548          130  3.47\n",
            "2          94.5   171.2   65.5     52.4         2823          152  2.68\n",
            "3          99.8   176.6   66.2     54.3         2337          109  3.19\n",
            "4          99.4   176.6   66.4     54.3         2824          136  3.19\n",
            "..          ...     ...    ...      ...          ...          ...   ...\n",
            "196       109.1   188.8   68.9     55.5         2952          141  3.78\n",
            "197       109.1   188.8   68.8     55.5         3049          141  3.78\n",
            "198       109.1   188.8   68.9     55.5         3012          173  3.58\n",
            "199       109.1   188.8   68.9     55.5         3217          145  3.01\n",
            "200       109.1   188.8   68.9     55.5         3062          141  3.78\n",
            "\n",
            "[201 rows x 7 columns]\n"
          ]
        },
        {
          "output_type": "stream",
          "name": "stderr",
          "text": [
            "/usr/local/lib/python3.7/dist-packages/sklearn/neighbors/_classification.py:198: DataConversionWarning: A column-vector y was passed when a 1d array was expected. Please change the shape of y to (n_samples,), for example using ravel().\n",
            "  return self._fit(X, y)\n",
            "/usr/local/lib/python3.7/dist-packages/sklearn/neighbors/_classification.py:198: DataConversionWarning: A column-vector y was passed when a 1d array was expected. Please change the shape of y to (n_samples,), for example using ravel().\n",
            "  return self._fit(X, y)\n",
            "/usr/local/lib/python3.7/dist-packages/sklearn/model_selection/_split.py:680: UserWarning: The least populated class in y has only 1 members, which is less than n_splits=2.\n",
            "  UserWarning,\n",
            "/usr/local/lib/python3.7/dist-packages/sklearn/neighbors/_classification.py:198: DataConversionWarning: A column-vector y was passed when a 1d array was expected. Please change the shape of y to (n_samples,), for example using ravel().\n",
            "  return self._fit(X, y)\n",
            "/usr/local/lib/python3.7/dist-packages/sklearn/neighbors/_classification.py:198: DataConversionWarning: A column-vector y was passed when a 1d array was expected. Please change the shape of y to (n_samples,), for example using ravel().\n",
            "  return self._fit(X, y)\n",
            "/usr/local/lib/python3.7/dist-packages/sklearn/model_selection/_split.py:680: UserWarning: The least populated class in y has only 1 members, which is less than n_splits=2.\n",
            "  UserWarning,\n",
            "/usr/local/lib/python3.7/dist-packages/sklearn/neighbors/_classification.py:198: DataConversionWarning: A column-vector y was passed when a 1d array was expected. Please change the shape of y to (n_samples,), for example using ravel().\n",
            "  return self._fit(X, y)\n",
            "/usr/local/lib/python3.7/dist-packages/sklearn/neighbors/_classification.py:198: DataConversionWarning: A column-vector y was passed when a 1d array was expected. Please change the shape of y to (n_samples,), for example using ravel().\n",
            "  return self._fit(X, y)\n",
            "/usr/local/lib/python3.7/dist-packages/sklearn/model_selection/_split.py:680: UserWarning: The least populated class in y has only 1 members, which is less than n_splits=2.\n",
            "  UserWarning,\n",
            "/usr/local/lib/python3.7/dist-packages/sklearn/neighbors/_classification.py:198: DataConversionWarning: A column-vector y was passed when a 1d array was expected. Please change the shape of y to (n_samples,), for example using ravel().\n",
            "  return self._fit(X, y)\n",
            "/usr/local/lib/python3.7/dist-packages/sklearn/neighbors/_classification.py:198: DataConversionWarning: A column-vector y was passed when a 1d array was expected. Please change the shape of y to (n_samples,), for example using ravel().\n",
            "  return self._fit(X, y)\n",
            "/usr/local/lib/python3.7/dist-packages/sklearn/model_selection/_split.py:680: UserWarning: The least populated class in y has only 1 members, which is less than n_splits=2.\n",
            "  UserWarning,\n",
            "/usr/local/lib/python3.7/dist-packages/sklearn/neighbors/_classification.py:198: DataConversionWarning: A column-vector y was passed when a 1d array was expected. Please change the shape of y to (n_samples,), for example using ravel().\n",
            "  return self._fit(X, y)\n",
            "/usr/local/lib/python3.7/dist-packages/sklearn/neighbors/_classification.py:198: DataConversionWarning: A column-vector y was passed when a 1d array was expected. Please change the shape of y to (n_samples,), for example using ravel().\n",
            "  return self._fit(X, y)\n",
            "/usr/local/lib/python3.7/dist-packages/sklearn/model_selection/_split.py:680: UserWarning: The least populated class in y has only 1 members, which is less than n_splits=2.\n",
            "  UserWarning,\n",
            "/usr/local/lib/python3.7/dist-packages/sklearn/neighbors/_classification.py:198: DataConversionWarning: A column-vector y was passed when a 1d array was expected. Please change the shape of y to (n_samples,), for example using ravel().\n",
            "  return self._fit(X, y)\n",
            "/usr/local/lib/python3.7/dist-packages/sklearn/neighbors/_classification.py:198: DataConversionWarning: A column-vector y was passed when a 1d array was expected. Please change the shape of y to (n_samples,), for example using ravel().\n",
            "  return self._fit(X, y)\n",
            "/usr/local/lib/python3.7/dist-packages/sklearn/model_selection/_split.py:680: UserWarning: The least populated class in y has only 1 members, which is less than n_splits=2.\n",
            "  UserWarning,\n",
            "/usr/local/lib/python3.7/dist-packages/sklearn/neighbors/_classification.py:198: DataConversionWarning: A column-vector y was passed when a 1d array was expected. Please change the shape of y to (n_samples,), for example using ravel().\n",
            "  return self._fit(X, y)\n",
            "/usr/local/lib/python3.7/dist-packages/sklearn/neighbors/_classification.py:198: DataConversionWarning: A column-vector y was passed when a 1d array was expected. Please change the shape of y to (n_samples,), for example using ravel().\n",
            "  return self._fit(X, y)\n",
            "/usr/local/lib/python3.7/dist-packages/sklearn/model_selection/_split.py:680: UserWarning: The least populated class in y has only 1 members, which is less than n_splits=2.\n",
            "  UserWarning,\n",
            "/usr/local/lib/python3.7/dist-packages/sklearn/neighbors/_classification.py:198: DataConversionWarning: A column-vector y was passed when a 1d array was expected. Please change the shape of y to (n_samples,), for example using ravel().\n",
            "  return self._fit(X, y)\n",
            "/usr/local/lib/python3.7/dist-packages/sklearn/neighbors/_classification.py:198: DataConversionWarning: A column-vector y was passed when a 1d array was expected. Please change the shape of y to (n_samples,), for example using ravel().\n",
            "  return self._fit(X, y)\n",
            "/usr/local/lib/python3.7/dist-packages/sklearn/model_selection/_split.py:680: UserWarning: The least populated class in y has only 1 members, which is less than n_splits=2.\n",
            "  UserWarning,\n",
            "/usr/local/lib/python3.7/dist-packages/sklearn/neighbors/_classification.py:198: DataConversionWarning: A column-vector y was passed when a 1d array was expected. Please change the shape of y to (n_samples,), for example using ravel().\n",
            "  return self._fit(X, y)\n",
            "/usr/local/lib/python3.7/dist-packages/sklearn/neighbors/_classification.py:198: DataConversionWarning: A column-vector y was passed when a 1d array was expected. Please change the shape of y to (n_samples,), for example using ravel().\n",
            "  return self._fit(X, y)\n",
            "/usr/local/lib/python3.7/dist-packages/sklearn/model_selection/_split.py:680: UserWarning: The least populated class in y has only 1 members, which is less than n_splits=2.\n",
            "  UserWarning,\n",
            "/usr/local/lib/python3.7/dist-packages/sklearn/neighbors/_classification.py:198: DataConversionWarning: A column-vector y was passed when a 1d array was expected. Please change the shape of y to (n_samples,), for example using ravel().\n",
            "  return self._fit(X, y)\n",
            "/usr/local/lib/python3.7/dist-packages/sklearn/neighbors/_classification.py:198: DataConversionWarning: A column-vector y was passed when a 1d array was expected. Please change the shape of y to (n_samples,), for example using ravel().\n",
            "  return self._fit(X, y)\n",
            "/usr/local/lib/python3.7/dist-packages/sklearn/model_selection/_split.py:680: UserWarning: The least populated class in y has only 1 members, which is less than n_splits=2.\n",
            "  UserWarning,\n",
            "/usr/local/lib/python3.7/dist-packages/sklearn/neighbors/_classification.py:198: DataConversionWarning: A column-vector y was passed when a 1d array was expected. Please change the shape of y to (n_samples,), for example using ravel().\n",
            "  return self._fit(X, y)\n",
            "/usr/local/lib/python3.7/dist-packages/sklearn/neighbors/_classification.py:198: DataConversionWarning: A column-vector y was passed when a 1d array was expected. Please change the shape of y to (n_samples,), for example using ravel().\n",
            "  return self._fit(X, y)\n"
          ]
        },
        {
          "output_type": "execute_result",
          "data": {
            "text/plain": [
              "SequentialFeatureSelector(cv=2, direction='backward',\n",
              "                          estimator=KNeighborsClassifier(n_neighbors=3),\n",
              "                          n_features_to_select=5)"
            ]
          },
          "metadata": {},
          "execution_count": 120
        }
      ]
    },
    {
      "cell_type": "code",
      "source": [
        "print(\"Originial no. of features: \", df.shape[1]-1)\n",
        "print(\"Selected no. of best features :\",sfs.transform(X).shape[1])"
      ],
      "metadata": {
        "colab": {
          "base_uri": "https://localhost:8080/"
        },
        "id": "5k6S-hBu9IyJ",
        "outputId": "162f712c-acff-4a52-9e95-cd35537ddee1"
      },
      "id": "5k6S-hBu9IyJ",
      "execution_count": 121,
      "outputs": [
        {
          "output_type": "stream",
          "name": "stdout",
          "text": [
            "Originial no. of features:  14\n",
            "Selected no. of best features : 5\n"
          ]
        }
      ]
    },
    {
      "cell_type": "code",
      "source": [
        "forward_selected = sfs.get_support()\n",
        "print(forward_selected)\n",
        " \n",
        "print(sfs.get_feature_names_out())\n",
        "print(\"All features:\")\n",
        "print(df.columns.all)\n",
        "print()\n",
        "print(\"Selected best 4 predictors:\")\n",
        "for i in range(df.columns.size):\n",
        "  if( i<len(forward_selected) and forward_selected[i] == True):\n",
        "    print(df.columns[i])"
      ],
      "metadata": {
        "colab": {
          "base_uri": "https://localhost:8080/"
        },
        "id": "bVZv6P1G9IsT",
        "outputId": "b9393c2f-5201-4c41-c07b-074b00668138"
      },
      "id": "bVZv6P1G9IsT",
      "execution_count": 122,
      "outputs": [
        {
          "output_type": "stream",
          "name": "stdout",
          "text": [
            "[ True False  True  True False  True  True]\n",
            "['wheel_base' 'width' 'heights' 'engine_size' 'bore']\n",
            "All features:\n",
            "<bound method Index.all of Index(['wheel_base', 'length', 'width', 'heights', 'curb_weight',\n",
            "       'engine_size', 'bore', 'stroke', 'comprassion', 'horse_power',\n",
            "       'peak_rpm', 'city_mpg', 'highway_mpg', 'price', 'fuel_type_gas'],\n",
            "      dtype='object')>\n",
            "\n",
            "Selected best 4 predictors:\n",
            "wheel_base\n",
            "width\n",
            "heights\n",
            "engine_size\n",
            "bore\n"
          ]
        }
      ]
    },
    {
      "cell_type": "markdown",
      "source": [
        "**Findings**: Observed that through forward feature selection using 2-fold split selected 5 best predictors [  wheel_base, width, heights, engine_size,bore] which are not similar to filter method that we used earlier.\n"
      ],
      "metadata": {
        "id": "P8Rdyx9B9eUt"
      },
      "id": "P8Rdyx9B9eUt"
    },
    {
      "cell_type": "markdown",
      "id": "501663f3",
      "metadata": {
        "id": "501663f3"
      },
      "source": [
        "### 2.3. Embedded methods\n",
        "\n",
        "Choose one (you may do more, one is required) of the embedded methods to conduct variable selection. Report your findigs."
      ]
    },
    {
      "cell_type": "markdown",
      "source": [
        "# Ridge Regression Embedded Methods"
      ],
      "metadata": {
        "id": "fvEHb6Oq-jFB"
      },
      "id": "fvEHb6Oq-jFB"
    },
    {
      "cell_type": "code",
      "source": [
        "from sklearn.linear_model import Ridge\n",
        "ridge = Ridge(alpha=0.8)\n",
        "ridge.fit(X,y)"
      ],
      "metadata": {
        "id": "tD4OSKTm-q8_",
        "colab": {
          "base_uri": "https://localhost:8080/"
        },
        "outputId": "06b5f8b4-fcd0-4b7f-f92b-98a66997f910"
      },
      "id": "tD4OSKTm-q8_",
      "execution_count": 149,
      "outputs": [
        {
          "output_type": "execute_result",
          "data": {
            "text/plain": [
              "Ridge(alpha=0.8)"
            ]
          },
          "metadata": {},
          "execution_count": 149
        }
      ]
    },
    {
      "cell_type": "code",
      "source": [
        "ridge.coef_"
      ],
      "metadata": {
        "colab": {
          "base_uri": "https://localhost:8080/"
        },
        "id": "emiANBKE_V63",
        "outputId": "be4385c8-43e3-4559-cb2f-71d01d218d0f"
      },
      "id": "emiANBKE_V63",
      "execution_count": 142,
      "outputs": [
        {
          "output_type": "execute_result",
          "data": {
            "text/plain": [
              "array([[ 0.00000000e+00,  9.24557171e+01, -1.13755501e+02,\n",
              "         5.97029710e+02,  1.77281443e+02,  2.42758781e+00,\n",
              "         1.27634605e+02, -1.25737775e+03, -3.46211050e+03,\n",
              "         1.70778647e+02,  1.28430637e+01,  2.44047932e+00,\n",
              "        -4.27842492e+02,  2.70368128e+02, -1.73099822e+03]])"
            ]
          },
          "metadata": {},
          "execution_count": 142
        }
      ]
    },
    {
      "cell_type": "code",
      "source": [
        "np.sum(ridge.coef_ >= 0)"
      ],
      "metadata": {
        "colab": {
          "base_uri": "https://localhost:8080/"
        },
        "id": "Ys2vMQgWBpF2",
        "outputId": "e2e9147a-a279-435b-983a-b25fdbe8709f"
      },
      "id": "Ys2vMQgWBpF2",
      "execution_count": 143,
      "outputs": [
        {
          "output_type": "execute_result",
          "data": {
            "text/plain": [
              "10"
            ]
          },
          "metadata": {},
          "execution_count": 143
        }
      ]
    },
    {
      "cell_type": "code",
      "source": [
        "coef_val = ridge.coef_[0]\n",
        "f,ax = plt.subplots(figsize=(18,12))\n",
        "plt.bar([x_val for x_val in X], coef_val, width=0.5)\n",
        "ax.legend(fontsize = 14)\n",
        "plt.show()\n",
        "\n"
      ],
      "metadata": {
        "colab": {
          "base_uri": "https://localhost:8080/",
          "height": 718
        },
        "id": "hzbAK1K_BuF2",
        "outputId": "42b5ba27-7b09-4231-d73b-9f66455a78df"
      },
      "id": "hzbAK1K_BuF2",
      "execution_count": 182,
      "outputs": [
        {
          "output_type": "stream",
          "name": "stderr",
          "text": [
            "No handles with labels found to put in legend.\n"
          ]
        },
        {
          "output_type": "display_data",
          "data": {
            "text/plain": [
              "<Figure size 1296x864 with 1 Axes>"
            ],
            "image/png": "[encoded data removed]"
          },
          "metadata": {
            "needs_background": "light"
          }
        }
      ]
    },
    {
      "cell_type": "markdown",
      "source": [
        "**Findings**: From the ridge coeeficients value, we can consider features which have higher coeficient value which are more important and correlated to the target, from the above plot, if we have to look for best 5 features predictors it would be **width, heights, engine_size, comprassion,highway_mpg**"
      ],
      "metadata": {
        "id": "ghRArs7fFlqy"
      },
      "id": "ghRArs7fFlqy"
    },
    {
      "cell_type": "markdown",
      "source": [
        "# Full linear regression model ( repeating process from previous hw )"
      ],
      "metadata": {
        "id": "XQv7ZeuMzpxr"
      },
      "id": "XQv7ZeuMzpxr"
    },
    {
      "cell_type": "code",
      "source": [
        "#Manipulate data to fit regression analysis\n",
        "#Independent variables : all except price\n",
        "X= sm.add_constant(df.drop(['price'],axis=1))\n",
        "#Dependent variable price\n",
        "y=df['price'].values.reshape(-1,1)"
      ],
      "metadata": {
        "colab": {
          "base_uri": "https://localhost:8080/"
        },
        "id": "pkaZvTfezxnS",
        "outputId": "d9864c72-b38f-4505-f911-d0febd59d4cb"
      },
      "id": "pkaZvTfezxnS",
      "execution_count": 128,
      "outputs": [
        {
          "output_type": "stream",
          "name": "stderr",
          "text": [
            "/usr/local/lib/python3.7/dist-packages/statsmodels/tsa/tsatools.py:117: FutureWarning: In a future version of pandas all arguments of concat except for the argument 'objs' will be keyword-only\n",
            "  x = pd.concat(x[::order], 1)\n"
          ]
        }
      ]
    },
    {
      "cell_type": "code",
      "source": [
        "model1 = sm.OLS(y, X).fit()\n",
        "model1.summary()"
      ],
      "metadata": {
        "colab": {
          "base_uri": "https://localhost:8080/",
          "height": 751
        },
        "id": "PufY1Wi7z0-N",
        "outputId": "8ffdaedb-0120-4021-90e3-728db45ba343"
      },
      "id": "PufY1Wi7z0-N",
      "execution_count": 129,
      "outputs": [
        {
          "output_type": "execute_result",
          "data": {
            "text/plain": [
              "<class 'statsmodels.iolib.summary.Summary'>\n",
              "\"\"\"\n",
              "                            OLS Regression Results                            \n",
              "==============================================================================\n",
              "Dep. Variable:                      y   R-squared:                       0.846\n",
              "Model:                            OLS   Adj. R-squared:                  0.835\n",
              "Method:                 Least Squares   F-statistic:                     73.15\n",
              "Date:                Mon, 11 Apr 2022   Prob (F-statistic):           9.55e-68\n",
              "Time:                        03:20:06   Log-Likelihood:                -1901.6\n",
              "No. Observations:                 201   AIC:                             3833.\n",
              "Df Residuals:                     186   BIC:                             3883.\n",
              "Df Model:                          14                                         \n",
              "Covariance Type:            nonrobust                                         \n",
              "=================================================================================\n",
              "                    coef    std err          t      P>|t|      [0.025      0.975]\n",
              "---------------------------------------------------------------------------------\n",
              "const         -3.385e+04   1.87e+04     -1.814      0.071   -7.07e+04    2956.672\n",
              "wheel_base       84.8492    105.228      0.806      0.421    -122.744     292.443\n",
              "length         -101.1170     59.523     -1.699      0.091    -218.545      16.311\n",
              "width           591.6150    262.270      2.256      0.025      74.209    1109.021\n",
              "heights         169.1734    137.819      1.228      0.221    -102.717     441.064\n",
              "curb_weight       2.1786      1.770      1.231      0.220      -1.313       5.670\n",
              "engine_size     132.1719     14.884      8.880      0.000     102.809     161.534\n",
              "bore          -1620.7975   1239.745     -1.307      0.193   -4066.566     824.971\n",
              "stroke        -3995.2231    880.855     -4.536      0.000   -5732.974   -2257.472\n",
              "comprassion    -216.6570    438.356     -0.494      0.622   -1081.445     648.131\n",
              "horse_power      12.2614     16.019      0.765      0.445     -19.340      43.863\n",
              "peak_rpm          2.6411      0.726      3.636      0.000       1.208       4.074\n",
              "city_mpg       -430.1114    183.041     -2.350      0.020    -791.214     -69.009\n",
              "highway_mpg     290.3236    168.493      1.723      0.087     -42.080     622.727\n",
              "fuel_type_gas -7138.3023   5969.621     -1.196      0.233   -1.89e+04    4638.567\n",
              "==============================================================================\n",
              "Omnibus:                       22.502   Durbin-Watson:                   0.961\n",
              "Prob(Omnibus):                  0.000   Jarque-Bera (JB):               64.985\n",
              "Skew:                           0.396   Prob(JB):                     7.74e-15\n",
              "Kurtosis:                       5.670   Cond. No.                     4.78e+05\n",
              "==============================================================================\n",
              "\n",
              "Warnings:\n",
              "[1] Standard Errors assume that the covariance matrix of the errors is correctly specified.\n",
              "[2] The condition number is large, 4.78e+05. This might indicate that there are\n",
              "strong multicollinearity or other numerical problems.\n",
              "\"\"\""
            ],
            "text/html": [
              "<table class=\"simpletable\">\n",
              "<caption>OLS Regression Results</caption>\n",
              "<tr>\n",
              "  <th>Dep. Variable:</th>            <td>y</td>        <th>  R-squared:         </th> <td>   0.846</td>\n",
              "</tr>\n",
              "<tr>\n",
              "  <th>Model:</th>                   <td>OLS</td>       <th>  Adj. R-squared:    </th> <td>   0.835</td>\n",
              "</tr>\n",
              "<tr>\n",
              "  <th>Method:</th>             <td>Least Squares</td>  <th>  F-statistic:       </th> <td>   73.15</td>\n",
              "</tr>\n",
              "<tr>\n",
              "  <th>Date:</th>             <td>Mon, 11 Apr 2022</td> <th>  Prob (F-statistic):</th> <td>9.55e-68</td>\n",
              "</tr>\n",
              "<tr>\n",
              "  <th>Time:</th>                 <td>03:20:06</td>     <th>  Log-Likelihood:    </th> <td> -1901.6</td>\n",
              "</tr>\n",
              "<tr>\n",
              "  <th>No. Observations:</th>      <td>   201</td>      <th>  AIC:               </th> <td>   3833.</td>\n",
              "</tr>\n",
              "<tr>\n",
              "  <th>Df Residuals:</th>          <td>   186</td>      <th>  BIC:               </th> <td>   3883.</td>\n",
              "</tr>\n",
              "<tr>\n",
              "  <th>Df Model:</th>              <td>    14</td>      <th>                     </th>     <td> </td>   \n",
              "</tr>\n",
              "<tr>\n",
              "  <th>Covariance Type:</th>      <td>nonrobust</td>    <th>                     </th>     <td> </td>   \n",
              "</tr>\n",
              "</table>\n",
              "<table class=\"simpletable\">\n",
              "<tr>\n",
              "        <td></td>           <th>coef</th>     <th>std err</th>      <th>t</th>      <th>P>|t|</th>  <th>[0.025</th>    <th>0.975]</th>  \n",
              "</tr>\n",
              "<tr>\n",
              "  <th>const</th>         <td>-3.385e+04</td> <td> 1.87e+04</td> <td>   -1.814</td> <td> 0.071</td> <td>-7.07e+04</td> <td> 2956.672</td>\n",
              "</tr>\n",
              "<tr>\n",
              "  <th>wheel_base</th>    <td>   84.8492</td> <td>  105.228</td> <td>    0.806</td> <td> 0.421</td> <td> -122.744</td> <td>  292.443</td>\n",
              "</tr>\n",
              "<tr>\n",
              "  <th>length</th>        <td> -101.1170</td> <td>   59.523</td> <td>   -1.699</td> <td> 0.091</td> <td> -218.545</td> <td>   16.311</td>\n",
              "</tr>\n",
              "<tr>\n",
              "  <th>width</th>         <td>  591.6150</td> <td>  262.270</td> <td>    2.256</td> <td> 0.025</td> <td>   74.209</td> <td> 1109.021</td>\n",
              "</tr>\n",
              "<tr>\n",
              "  <th>heights</th>       <td>  169.1734</td> <td>  137.819</td> <td>    1.228</td> <td> 0.221</td> <td> -102.717</td> <td>  441.064</td>\n",
              "</tr>\n",
              "<tr>\n",
              "  <th>curb_weight</th>   <td>    2.1786</td> <td>    1.770</td> <td>    1.231</td> <td> 0.220</td> <td>   -1.313</td> <td>    5.670</td>\n",
              "</tr>\n",
              "<tr>\n",
              "  <th>engine_size</th>   <td>  132.1719</td> <td>   14.884</td> <td>    8.880</td> <td> 0.000</td> <td>  102.809</td> <td>  161.534</td>\n",
              "</tr>\n",
              "<tr>\n",
              "  <th>bore</th>          <td>-1620.7975</td> <td> 1239.745</td> <td>   -1.307</td> <td> 0.193</td> <td>-4066.566</td> <td>  824.971</td>\n",
              "</tr>\n",
              "<tr>\n",
              "  <th>stroke</th>        <td>-3995.2231</td> <td>  880.855</td> <td>   -4.536</td> <td> 0.000</td> <td>-5732.974</td> <td>-2257.472</td>\n",
              "</tr>\n",
              "<tr>\n",
              "  <th>comprassion</th>   <td> -216.6570</td> <td>  438.356</td> <td>   -0.494</td> <td> 0.622</td> <td>-1081.445</td> <td>  648.131</td>\n",
              "</tr>\n",
              "<tr>\n",
              "  <th>horse_power</th>   <td>   12.2614</td> <td>   16.019</td> <td>    0.765</td> <td> 0.445</td> <td>  -19.340</td> <td>   43.863</td>\n",
              "</tr>\n",
              "<tr>\n",
              "  <th>peak_rpm</th>      <td>    2.6411</td> <td>    0.726</td> <td>    3.636</td> <td> 0.000</td> <td>    1.208</td> <td>    4.074</td>\n",
              "</tr>\n",
              "<tr>\n",
              "  <th>city_mpg</th>      <td> -430.1114</td> <td>  183.041</td> <td>   -2.350</td> <td> 0.020</td> <td> -791.214</td> <td>  -69.009</td>\n",
              "</tr>\n",
              "<tr>\n",
              "  <th>highway_mpg</th>   <td>  290.3236</td> <td>  168.493</td> <td>    1.723</td> <td> 0.087</td> <td>  -42.080</td> <td>  622.727</td>\n",
              "</tr>\n",
              "<tr>\n",
              "  <th>fuel_type_gas</th> <td>-7138.3023</td> <td> 5969.621</td> <td>   -1.196</td> <td> 0.233</td> <td>-1.89e+04</td> <td> 4638.567</td>\n",
              "</tr>\n",
              "</table>\n",
              "<table class=\"simpletable\">\n",
              "<tr>\n",
              "  <th>Omnibus:</th>       <td>22.502</td> <th>  Durbin-Watson:     </th> <td>   0.961</td>\n",
              "</tr>\n",
              "<tr>\n",
              "  <th>Prob(Omnibus):</th> <td> 0.000</td> <th>  Jarque-Bera (JB):  </th> <td>  64.985</td>\n",
              "</tr>\n",
              "<tr>\n",
              "  <th>Skew:</th>          <td> 0.396</td> <th>  Prob(JB):          </th> <td>7.74e-15</td>\n",
              "</tr>\n",
              "<tr>\n",
              "  <th>Kurtosis:</th>      <td> 5.670</td> <th>  Cond. No.          </th> <td>4.78e+05</td>\n",
              "</tr>\n",
              "</table><br/><br/>Warnings:<br/>[1] Standard Errors assume that the covariance matrix of the errors is correctly specified.<br/>[2] The condition number is large, 4.78e+05. This might indicate that there are<br/>strong multicollinearity or other numerical problems."
            ]
          },
          "metadata": {},
          "execution_count": 129
        }
      ]
    },
    {
      "cell_type": "code",
      "source": [
        "_y = model1.params"
      ],
      "metadata": {
        "id": "Dv2KfVuTz8n2"
      },
      "id": "Dv2KfVuTz8n2",
      "execution_count": 130,
      "outputs": []
    },
    {
      "cell_type": "code",
      "source": [
        "for i in range(df.columns.size):\n",
        "  if _y[i-1]>0:\n",
        "    print(df.columns[i] , \" = \" , _y[i-1])"
      ],
      "metadata": {
        "colab": {
          "base_uri": "https://localhost:8080/"
        },
        "id": "mlCWekuM1lFO",
        "outputId": "c2b7295d-1a26-4692-808c-e4c11749e671"
      },
      "id": "mlCWekuM1lFO",
      "execution_count": 131,
      "outputs": [
        {
          "output_type": "stream",
          "name": "stdout",
          "text": [
            "width  =  84.84922795186296\n",
            "curb_weight  =  591.6149526182747\n",
            "engine_size  =  169.17344622788298\n",
            "bore  =  2.1785845382979128\n",
            "stroke  =  132.171850646402\n",
            "city_mpg  =  12.261448561231948\n",
            "highway_mpg  =  2.6410963267337353\n",
            "fuel_type_gas  =  290.3235859322871\n"
          ]
        }
      ]
    },
    {
      "cell_type": "markdown",
      "source": [
        "From the full linear regression results we can observe that the above values have positive higher coefficients, if we have to select best 5 in this result, it would be the variables with highest coefs, which are **curb_weight, engine_size, fule_type_gas, stroke, width**"
      ],
      "metadata": {
        "id": "w_D562lF3dbb"
      },
      "id": "w_D562lF3dbb"
    },
    {
      "cell_type": "markdown",
      "id": "1a783fec",
      "metadata": {
        "id": "1a783fec"
      },
      "source": [
        "### 2.4. Compare your results\n",
        "Compare your results from the three methods and also compare the coefficients to the full linear regression model (model1) from the previous homework."
      ]
    },
    {
      "cell_type": "markdown",
      "source": [
        "#Let us compare the selected feature results from all the above **methods**"
      ],
      "metadata": {
        "id": "s6TqUSuP1_SQ"
      },
      "id": "s6TqUSuP1_SQ"
    },
    {
      "cell_type": "markdown",
      "source": [
        "\n",
        "![image.png](data:image/png;base64,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)\n"
      ],
      "metadata": {
        "id": "pkfYenU92lm7"
      },
      "id": "pkfYenU92lm7"
    },
    {
      "cell_type": "markdown",
      "source": [
        "![image.png](data:image/png;base64,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)"
      ],
      "metadata": {
        "id": "kx9hpYw09KOd"
      },
      "id": "kx9hpYw09KOd"
    },
    {
      "cell_type": "markdown",
      "source": [
        "We can observe that width, heights, engine_size are best features selected by atmost all the methods."
      ],
      "metadata": {
        "id": "IICkBOVI9OPP"
      },
      "id": "IICkBOVI9OPP"
    },
    {
      "cell_type": "markdown",
      "source": [
        ""
      ],
      "metadata": {
        "id": "tqtKpO1_2JBc"
      },
      "id": "tqtKpO1_2JBc"
    },
    {
      "cell_type": "markdown",
      "id": "6be87255",
      "metadata": {
        "id": "6be87255"
      },
      "source": [
        "### 2.5 Bonus question (*extra 5 points*)"
      ]
    },
    {
      "cell_type": "markdown",
      "id": "8a03d112",
      "metadata": {
        "id": "8a03d112"
      },
      "source": [
        "Reduce your features with PCA. Run a regression with the chosen number of PCA's, report your findings."
      ]
    },
    {
      "cell_type": "code",
      "execution_count": 150,
      "id": "2cff055c",
      "metadata": {
        "id": "2cff055c"
      },
      "outputs": [],
      "source": [
        "#Attempting PCA analysis\n",
        "import pandas as pd\n",
        "from sklearn.preprocessing import StandardScaler\n",
        "from sklearn.decomposition import PCA"
      ]
    },
    {
      "cell_type": "code",
      "source": [
        "features = df[['wheel_base','length','width','heights','curb_weight','engine_size','bore','stroke','comprassion','horse_power','peak_rpm','city_mpg','highway_mpg','fuel_type_gas']]\n",
        "scaled_features = StandardScaler().fit_transform(features)"
      ],
      "metadata": {
        "id": "AJXOyOQcw6Zv"
      },
      "id": "AJXOyOQcw6Zv",
      "execution_count": 167,
      "outputs": []
    },
    {
      "cell_type": "code",
      "source": [
        "pd.DataFrame(scaled_features)"
      ],
      "metadata": {
        "colab": {
          "base_uri": "https://localhost:8080/",
          "height": 423
        },
        "id": "DgO1SrBmzlI5",
        "outputId": "ecd09584-9888-4067-a4a1-3c0444019bad"
      },
      "id": "DgO1SrBmzlI5",
      "execution_count": 168,
      "outputs": [
        {
          "output_type": "execute_result",
          "data": {
            "text/plain": [
              "           0         1         2         3         4         5         6   \\\n",
              "0   -1.685107 -0.439409 -0.853460 -2.034081 -0.014858  0.075389  0.534986   \n",
              "1   -1.685107 -0.439409 -0.853460 -2.034081 -0.014858  0.075389  0.534986   \n",
              "2   -0.710103 -0.244152 -0.185597 -0.559713  0.518080  0.606234 -2.394339   \n",
              "3    0.165748  0.195176  0.148335  0.218425 -0.423766 -0.431327 -0.503256   \n",
              "4    0.099646  0.195176  0.243744  0.218425  0.520017  0.220165 -0.503256   \n",
              "..        ...       ...       ...       ...       ...       ...       ...   \n",
              "196  1.702619  1.187733  1.436357  0.709881  0.768075  0.340812  1.684468   \n",
              "197  1.702619  1.187733  1.388653  0.709881  0.956057  0.340812  1.684468   \n",
              "198  1.702619  1.187733  1.436357  0.709881  0.884353  1.112950  0.942866   \n",
              "199  1.702619  1.187733  1.436357  0.709881  1.281633  0.437329 -1.170697   \n",
              "200  1.702619  1.187733  1.436357  0.709881  0.981250  0.340812  1.684468   \n",
              "\n",
              "           7         8         9         10        11        12        13  \n",
              "0   -1.821138 -0.291435  0.169977 -0.259462 -0.652249 -0.542288  0.332411  \n",
              "1   -1.821138 -0.291435  0.169977 -0.259462 -0.652249 -0.542288  0.332411  \n",
              "2    0.681922 -0.291435  1.282094 -0.259462 -0.964397 -0.689386  0.332411  \n",
              "3    0.460132 -0.041121 -0.062792  0.775298 -0.184027 -0.100993  0.332411  \n",
              "4    0.460132 -0.541748  0.273429  0.775298 -1.120471 -1.277779  0.332411  \n",
              "..        ...       ...       ...       ...       ...       ...       ...  \n",
              "196 -0.331976 -0.166278  0.247566  0.568346 -0.340101 -0.395189  0.332411  \n",
              "197 -0.331976 -0.366529  1.437273  0.361394 -0.964397 -0.836484  0.332411  \n",
              "198 -1.219136 -0.341497  0.764830  0.775298 -1.120471 -1.130681  0.332411  \n",
              "199  0.460132  3.212954  0.040661 -0.673367  0.128120 -0.542288 -3.008322  \n",
              "200 -0.331976 -0.166278  0.247566  0.568346 -0.964397 -0.836484  0.332411  \n",
              "\n",
              "[201 rows x 14 columns]"
            ],
            "text/html": [
              "\n",
              "  <div id=\"df-90f1b537-3669-4bdd-aeaf-d82412e6f96f\">\n",
              "    <div class=\"colab-df-container\">\n",
              "      <div>\n",
              "<style scoped>\n",
              "    .dataframe tbody tr th:only-of-type {\n",
              "        vertical-align: middle;\n",
              "    }\n",
              "\n",
              "    .dataframe tbody tr th {\n",
              "        vertical-align: top;\n",
              "    }\n",
              "\n",
              "    .dataframe thead th {\n",
              "        text-align: right;\n",
              "    }\n",
              "</style>\n",
              "<table border=\"1\" class=\"dataframe\">\n",
              "  <thead>\n",
              "    <tr style=\"text-align: right;\">\n",
              "      <th></th>\n",
              "      <th>0</th>\n",
              "      <th>1</th>\n",
              "      <th>2</th>\n",
              "      <th>3</th>\n",
              "      <th>4</th>\n",
              "      <th>5</th>\n",
              "      <th>6</th>\n",
              "      <th>7</th>\n",
              "      <th>8</th>\n",
              "      <th>9</th>\n",
              "      <th>10</th>\n",
              "      <th>11</th>\n",
              "      <th>12</th>\n",
              "      <th>13</th>\n",
              "    </tr>\n",
              "  </thead>\n",
              "  <tbody>\n",
              "    <tr>\n",
              "      <th>0</th>\n",
              "      <td>-1.685107</td>\n",
              "      <td>-0.439409</td>\n",
              "      <td>-0.853460</td>\n",
              "      <td>-2.034081</td>\n",
              "      <td>-0.014858</td>\n",
              "      <td>0.075389</td>\n",
              "      <td>0.534986</td>\n",
              "      <td>-1.821138</td>\n",
              "      <td>-0.291435</td>\n",
              "      <td>0.169977</td>\n",
              "      <td>-0.259462</td>\n",
              "      <td>-0.652249</td>\n",
              "      <td>-0.542288</td>\n",
              "      <td>0.332411</td>\n",
              "    </tr>\n",
              "    <tr>\n",
              "      <th>1</th>\n",
              "      <td>-1.685107</td>\n",
              "      <td>-0.439409</td>\n",
              "      <td>-0.853460</td>\n",
              "      <td>-2.034081</td>\n",
              "      <td>-0.014858</td>\n",
              "      <td>0.075389</td>\n",
              "      <td>0.534986</td>\n",
              "      <td>-1.821138</td>\n",
              "      <td>-0.291435</td>\n",
              "      <td>0.169977</td>\n",
              "      <td>-0.259462</td>\n",
              "      <td>-0.652249</td>\n",
              "      <td>-0.542288</td>\n",
              "      <td>0.332411</td>\n",
              "    </tr>\n",
              "    <tr>\n",
              "      <th>2</th>\n",
              "      <td>-0.710103</td>\n",
              "      <td>-0.244152</td>\n",
              "      <td>-0.185597</td>\n",
              "      <td>-0.559713</td>\n",
              "      <td>0.518080</td>\n",
              "      <td>0.606234</td>\n",
              "      <td>-2.394339</td>\n",
              "      <td>0.681922</td>\n",
              "      <td>-0.291435</td>\n",
              "      <td>1.282094</td>\n",
              "      <td>-0.259462</td>\n",
              "      <td>-0.964397</td>\n",
              "      <td>-0.689386</td>\n",
              "      <td>0.332411</td>\n",
              "    </tr>\n",
              "    <tr>\n",
              "      <th>3</th>\n",
              "      <td>0.165748</td>\n",
              "      <td>0.195176</td>\n",
              "      <td>0.148335</td>\n",
              "      <td>0.218425</td>\n",
              "      <td>-0.423766</td>\n",
              "      <td>-0.431327</td>\n",
              "      <td>-0.503256</td>\n",
              "      <td>0.460132</td>\n",
              "      <td>-0.041121</td>\n",
              "      <td>-0.062792</td>\n",
              "      <td>0.775298</td>\n",
              "      <td>-0.184027</td>\n",
              "      <td>-0.100993</td>\n",
              "      <td>0.332411</td>\n",
              "    </tr>\n",
              "    <tr>\n",
              "      <th>4</th>\n",
              "      <td>0.099646</td>\n",
              "      <td>0.195176</td>\n",
              "      <td>0.243744</td>\n",
              "      <td>0.218425</td>\n",
              "      <td>0.520017</td>\n",
              "      <td>0.220165</td>\n",
              "      <td>-0.503256</td>\n",
              "      <td>0.460132</td>\n",
              "      <td>-0.541748</td>\n",
              "      <td>0.273429</td>\n",
              "      <td>0.775298</td>\n",
              "      <td>-1.120471</td>\n",
              "      <td>-1.277779</td>\n",
              "      <td>0.332411</td>\n",
              "    </tr>\n",
              "    <tr>\n",
              "      <th>...</th>\n",
              "      <td>...</td>\n",
              "      <td>...</td>\n",
              "      <td>...</td>\n",
              "      <td>...</td>\n",
              "      <td>...</td>\n",
              "      <td>...</td>\n",
              "      <td>...</td>\n",
              "      <td>...</td>\n",
              "      <td>...</td>\n",
              "      <td>...</td>\n",
              "      <td>...</td>\n",
              "      <td>...</td>\n",
              "      <td>...</td>\n",
              "      <td>...</td>\n",
              "    </tr>\n",
              "    <tr>\n",
              "      <th>196</th>\n",
              "      <td>1.702619</td>\n",
              "      <td>1.187733</td>\n",
              "      <td>1.436357</td>\n",
              "      <td>0.709881</td>\n",
              "      <td>0.768075</td>\n",
              "      <td>0.340812</td>\n",
              "      <td>1.684468</td>\n",
              "      <td>-0.331976</td>\n",
              "      <td>-0.166278</td>\n",
              "      <td>0.247566</td>\n",
              "      <td>0.568346</td>\n",
              "      <td>-0.340101</td>\n",
              "      <td>-0.395189</td>\n",
              "      <td>0.332411</td>\n",
              "    </tr>\n",
              "    <tr>\n",
              "      <th>197</th>\n",
              "      <td>1.702619</td>\n",
              "      <td>1.187733</td>\n",
              "      <td>1.388653</td>\n",
              "      <td>0.709881</td>\n",
              "      <td>0.956057</td>\n",
              "      <td>0.340812</td>\n",
              "      <td>1.684468</td>\n",
              "      <td>-0.331976</td>\n",
              "      <td>-0.366529</td>\n",
              "      <td>1.437273</td>\n",
              "      <td>0.361394</td>\n",
              "      <td>-0.964397</td>\n",
              "      <td>-0.836484</td>\n",
              "      <td>0.332411</td>\n",
              "    </tr>\n",
              "    <tr>\n",
              "      <th>198</th>\n",
              "      <td>1.702619</td>\n",
              "      <td>1.187733</td>\n",
              "      <td>1.436357</td>\n",
              "      <td>0.709881</td>\n",
              "      <td>0.884353</td>\n",
              "      <td>1.112950</td>\n",
              "      <td>0.942866</td>\n",
              "      <td>-1.219136</td>\n",
              "      <td>-0.341497</td>\n",
              "      <td>0.764830</td>\n",
              "      <td>0.775298</td>\n",
              "      <td>-1.120471</td>\n",
              "      <td>-1.130681</td>\n",
              "      <td>0.332411</td>\n",
              "    </tr>\n",
              "    <tr>\n",
              "      <th>199</th>\n",
              "      <td>1.702619</td>\n",
              "      <td>1.187733</td>\n",
              "      <td>1.436357</td>\n",
              "      <td>0.709881</td>\n",
              "      <td>1.281633</td>\n",
              "      <td>0.437329</td>\n",
              "      <td>-1.170697</td>\n",
              "      <td>0.460132</td>\n",
              "      <td>3.212954</td>\n",
              "      <td>0.040661</td>\n",
              "      <td>-0.673367</td>\n",
              "      <td>0.128120</td>\n",
              "      <td>-0.542288</td>\n",
              "      <td>-3.008322</td>\n",
              "    </tr>\n",
              "    <tr>\n",
              "      <th>200</th>\n",
              "      <td>1.702619</td>\n",
              "      <td>1.187733</td>\n",
              "      <td>1.436357</td>\n",
              "      <td>0.709881</td>\n",
              "      <td>0.981250</td>\n",
              "      <td>0.340812</td>\n",
              "      <td>1.684468</td>\n",
              "      <td>-0.331976</td>\n",
              "      <td>-0.166278</td>\n",
              "      <td>0.247566</td>\n",
              "      <td>0.568346</td>\n",
              "      <td>-0.964397</td>\n",
              "      <td>-0.836484</td>\n",
              "      <td>0.332411</td>\n",
              "    </tr>\n",
              "  </tbody>\n",
              "</table>\n",
              "<p>201 rows × 14 columns</p>\n",
              "</div>\n",
              "      <button class=\"colab-df-convert\" onclick=\"convertToInteractive('df-90f1b537-3669-4bdd-aeaf-d82412e6f96f')\"\n",
              "              title=\"Convert this dataframe to an interactive table.\"\n",
              "              style=\"display:none;\">\n",
              "        \n",
              "  <svg xmlns=\"http://www.w3.org/2000/svg\" height=\"24px\"viewBox=\"0 0 24 24\"\n",
              "       width=\"24px\">\n",
              "    <path d=\"M0 0h24v24H0V0z\" fill=\"none\"/>\n",
              "    <path d=\"M18.56 5.44l.94 2.06.94-2.06 2.06-.94-2.06-.94-.94-2.06-.94 2.06-2.06.94zm-11 1L8.5 8.5l.94-2.06 2.06-.94-2.06-.94L8.5 2.5l-.94 2.06-2.06.94zm10 10l.94 2.06.94-2.06 2.06-.94-2.06-.94-.94-2.06-.94 2.06-2.06.94z\"/><path d=\"M17.41 7.96l-1.37-1.37c-.4-.4-.92-.59-1.43-.59-.52 0-1.04.2-1.43.59L10.3 9.45l-7.72 7.72c-.78.78-.78 2.05 0 2.83L4 21.41c.39.39.9.59 1.41.59.51 0 1.02-.2 1.41-.59l7.78-7.78 2.81-2.81c.8-.78.8-2.07 0-2.86zM5.41 20L4 18.59l7.72-7.72 1.47 1.35L5.41 20z\"/>\n",
              "  </svg>\n",
              "      </button>\n",
              "      \n",
              "  <style>\n",
              "    .colab-df-container {\n",
              "      display:flex;\n",
              "      flex-wrap:wrap;\n",
              "      gap: 12px;\n",
              "    }\n",
              "\n",
              "    .colab-df-convert {\n",
              "      background-color: #E8F0FE;\n",
              "      border: none;\n",
              "      border-radius: 50%;\n",
              "      cursor: pointer;\n",
              "      display: none;\n",
              "      fill: #1967D2;\n",
              "      height: 32px;\n",
              "      padding: 0 0 0 0;\n",
              "      width: 32px;\n",
              "    }\n",
              "\n",
              "    .colab-df-convert:hover {\n",
              "      background-color: #E2EBFA;\n",
              "      box-shadow: 0px 1px 2px rgba(60, 64, 67, 0.3), 0px 1px 3px 1px rgba(60, 64, 67, 0.15);\n",
              "      fill: #174EA6;\n",
              "    }\n",
              "\n",
              "    [theme=dark] .colab-df-convert {\n",
              "      background-color: #3B4455;\n",
              "      fill: #D2E3FC;\n",
              "    }\n",
              "\n",
              "    [theme=dark] .colab-df-convert:hover {\n",
              "      background-color: #434B5C;\n",
              "      box-shadow: 0px 1px 3px 1px rgba(0, 0, 0, 0.15);\n",
              "      filter: drop-shadow(0px 1px 2px rgba(0, 0, 0, 0.3));\n",
              "      fill: #FFFFFF;\n",
              "    }\n",
              "  </style>\n",
              "\n",
              "      <script>\n",
              "        const buttonEl =\n",
              "          document.querySelector('#df-90f1b537-3669-4bdd-aeaf-d82412e6f96f button.colab-df-convert');\n",
              "        buttonEl.style.display =\n",
              "          google.colab.kernel.accessAllowed ? 'block' : 'none';\n",
              "\n",
              "        async function convertToInteractive(key) {\n",
              "          const element = document.querySelector('#df-90f1b537-3669-4bdd-aeaf-d82412e6f96f');\n",
              "          const dataTable =\n",
              "            await google.colab.kernel.invokeFunction('convertToInteractive',\n",
              "                                                     [key], {});\n",
              "          if (!dataTable) return;\n",
              "\n",
              "          const docLinkHtml = 'Like what you see? Visit the ' +\n",
              "            '<a target=\"_blank\" href=https://colab.research.google.com/notebooks/data_table.ipynb>data table notebook</a>'\n",
              "            + ' to learn more about interactive tables.';\n",
              "          element.innerHTML = '';\n",
              "          dataTable['output_type'] = 'display_data';\n",
              "          await google.colab.output.renderOutput(dataTable, element);\n",
              "          const docLink = document.createElement('div');\n",
              "          docLink.innerHTML = docLinkHtml;\n",
              "          element.appendChild(docLink);\n",
              "        }\n",
              "      </script>\n",
              "    </div>\n",
              "  </div>\n",
              "  "
            ]
          },
          "metadata": {},
          "execution_count": 168
        }
      ]
    },
    {
      "cell_type": "code",
      "source": [
        "pca = PCA(n_components=5)\n",
        "principalComponents = pca.fit_transform(scaled_features)\n",
        "principalComponents"
      ],
      "metadata": {
        "colab": {
          "base_uri": "https://localhost:8080/"
        },
        "id": "biQorPMRyI9h",
        "outputId": "7ca786e7-d212-48d1-b4ac-7441b069e4ae"
      },
      "id": "biQorPMRyI9h",
      "execution_count": 192,
      "outputs": [
        {
          "output_type": "execute_result",
          "data": {
            "text/plain": [
              "array([[-0.76200309, -1.78905188, -0.02802886,  2.65958961,  0.72935152],\n",
              "       [-0.76200309, -1.78905188, -0.02802886,  2.65958961,  0.72935152],\n",
              "       [ 0.23254229, -1.19155688, -1.51727319, -0.5406603 ,  0.0135372 ],\n",
              "       ...,\n",
              "       [ 3.28085255, -0.80852385,  1.31966315, -0.26480998,  0.93499609],\n",
              "       [ 2.33971658,  4.19654659, -1.1203047 , -0.6788508 ,  1.94084603],\n",
              "       [ 3.04995443, -0.27650083,  1.12404344, -0.48013701,  0.33774816]])"
            ]
          },
          "metadata": {},
          "execution_count": 192
        }
      ]
    },
    {
      "cell_type": "code",
      "source": [
        "pca.explained_variance_ratio_"
      ],
      "metadata": {
        "colab": {
          "base_uri": "https://localhost:8080/"
        },
        "id": "pO3yj3VCxLG7",
        "outputId": "cb39fa78-30ae-4ed2-a0c7-491c027f59fc"
      },
      "id": "pO3yj3VCxLG7",
      "execution_count": 193,
      "outputs": [
        {
          "output_type": "execute_result",
          "data": {
            "text/plain": [
              "array([0.476939  , 0.21754073, 0.09076563, 0.06351376, 0.04850278])"
            ]
          },
          "metadata": {},
          "execution_count": 193
        }
      ]
    },
    {
      "cell_type": "markdown",
      "source": [
        "It can be seen that first principal component is responsible for 47.69% variance. Similarly, the second principal component causes 21.7% variance in the dataset. Collectively we can say that (47.69 + 21.7) 69.39% percent of the classification information contained in the feature set is captured by the first two principal components."
      ],
      "metadata": {
        "id": "WKFOq5N11Sc6"
      },
      "id": "WKFOq5N11Sc6"
    },
    {
      "cell_type": "code",
      "source": [
        "pca4 = PCA(n_components = 4)\n",
        "pca4.fit_transform(scaled_features)"
      ],
      "metadata": {
        "colab": {
          "base_uri": "https://localhost:8080/"
        },
        "id": "i8LrqDKazdjR",
        "outputId": "beb07913-3a3e-49e4-9a86-11ab8f8994cc"
      },
      "id": "i8LrqDKazdjR",
      "execution_count": 186,
      "outputs": [
        {
          "output_type": "execute_result",
          "data": {
            "text/plain": [
              "array([[-7.62003087e-01, -1.78905188e+00, -2.80288649e-02,\n",
              "         2.65958961e+00],\n",
              "       [-7.62003087e-01, -1.78905188e+00, -2.80288649e-02,\n",
              "         2.65958961e+00],\n",
              "       [ 2.32542286e-01, -1.19155688e+00, -1.51727319e+00,\n",
              "        -5.40660299e-01],\n",
              "       [-2.30985587e-01, -3.50096129e-01, -9.03440800e-02,\n",
              "        -1.12694390e+00],\n",
              "       [ 1.11562172e+00, -1.21965797e+00, -2.36906072e-01,\n",
              "        -1.03692045e+00],\n",
              "       [ 6.17834614e-01, -1.12275275e+00, -4.48242561e-01,\n",
              "        -8.44880259e-01],\n",
              "       [ 2.60260986e+00, -3.00634861e-01,  3.31397734e-01,\n",
              "        -2.01597495e+00],\n",
              "       [ 2.68238833e+00, -2.92247526e-01,  3.20426643e-01,\n",
              "        -2.00916859e+00],\n",
              "       [ 3.25498357e+00, -7.26709779e-01,  1.80078475e-01,\n",
              "        -2.09889183e+00],\n",
              "       [-1.28623958e-01, -1.03705419e+00,  1.36631759e+00,\n",
              "        -4.84088920e-02],\n",
              "       [-1.28623958e-01, -1.03705419e+00,  1.36631759e+00,\n",
              "        -4.84088920e-02],\n",
              "       [ 1.03571373e+00,  3.15111632e-02,  4.49660234e-01,\n",
              "         8.34491054e-01],\n",
              "       [ 1.07560296e+00,  3.57048306e-02,  4.44174689e-01,\n",
              "         8.37894236e-01],\n",
              "       [ 2.37445057e+00,  3.15671594e-01,  8.90479024e-01,\n",
              "         2.17409090e-01],\n",
              "       [ 3.79352487e+00, -1.33831486e+00, -2.55367401e-01,\n",
              "        -2.79090560e-01],\n",
              "       [ 4.10050571e+00, -1.47832891e+00, -6.70069168e-01,\n",
              "        -2.27161595e-02],\n",
              "       [ 5.40231689e+00, -9.38584618e-01,  6.48296768e-02,\n",
              "        -9.80771946e-01],\n",
              "       [-6.82269040e+00,  9.03459397e-01,  3.79906479e-01,\n",
              "         5.68164729e-01],\n",
              "       [-3.91018895e+00,  1.35127842e-01, -7.15882356e-02,\n",
              "         9.80182136e-02],\n",
              "       [-3.80087452e+00,  1.59434371e-01, -4.38255193e-02,\n",
              "         6.20516590e-02],\n",
              "       [-3.86922175e+00, -1.60080705e-01, -6.18990748e-01,\n",
              "        -7.31823539e-02],\n",
              "       [-3.43044558e+00, -5.22132281e-01, -6.02836076e-01,\n",
              "        -1.15725175e-01],\n",
              "       [-2.11268260e+00, -1.48357265e+00, -1.05363640e+00,\n",
              "        -2.28037813e-01],\n",
              "       [-3.37507360e+00, -5.37732651e-01, -6.55061005e-01,\n",
              "        -7.41780439e-02],\n",
              "       [-3.35911791e+00, -5.36055184e-01, -6.57255223e-01,\n",
              "        -7.28167710e-02],\n",
              "       [-3.35911791e+00, -5.36055184e-01, -6.57255223e-01,\n",
              "        -7.28167710e-02],\n",
              "       [-2.07761787e+00, -1.50130798e+00, -1.10306869e+00,\n",
              "        -1.88223211e-01],\n",
              "       [ 3.15620385e-01,  5.97782491e-01,  1.39937698e+00,\n",
              "        -1.58488010e+00],\n",
              "       [ 1.44953438e+00, -1.52492058e+00, -2.18138805e+00,\n",
              "         4.19019433e-01],\n",
              "       [-5.87009720e+00,  1.15379725e+00, -1.17909915e+00,\n",
              "         7.72923997e-01],\n",
              "       [-4.24104987e+00, -1.23870958e+00, -1.55115984e+00,\n",
              "        -4.28996685e-01],\n",
              "       [-4.31537271e+00,  1.69038460e-01,  5.29968475e-02,\n",
              "        -2.12477379e-01],\n",
              "       [-3.27334956e+00, -9.32384243e-01, -8.80851501e-01,\n",
              "        -1.16759916e+00],\n",
              "       [-3.26174541e+00, -9.31164267e-01, -8.82447296e-01,\n",
              "        -1.16660914e+00],\n",
              "       [-2.58808575e+00, -5.22375165e-01, -2.45650875e-01,\n",
              "        -1.80800748e+00],\n",
              "       [-2.56461162e+00, -1.44504828e-01,  5.12172788e-01,\n",
              "        -2.38623802e+00],\n",
              "       [-1.43583521e+00, -6.39339785e-01, -8.12075067e-01,\n",
              "        -1.29551184e+00],\n",
              "       [-1.39739649e+00, -6.35298615e-01, -8.17361138e-01,\n",
              "        -1.29223241e+00],\n",
              "       [-1.11537340e+00, -4.85054515e-01, -5.61122923e-01,\n",
              "        -1.53884733e+00],\n",
              "       [-1.51300965e+00, -5.82804852e-01, -5.13951759e-01,\n",
              "        -1.40245929e+00],\n",
              "       [-4.95363176e-01, -8.69426018e-01, -6.54208213e-01,\n",
              "        -1.51855133e+00],\n",
              "       [-9.76105089e-01, -8.55723881e-01, -1.31563476e+00,\n",
              "        -6.36375979e-01],\n",
              "       [-1.36096097e+00, -4.40051402e-01,  4.27669727e-01,\n",
              "         5.25834325e-01],\n",
              "       [-2.33730485e-01, -6.03194855e-01, -2.08897301e-01,\n",
              "         7.65181426e-01],\n",
              "       [ 6.32753742e+00, -4.87409769e-01, -2.22092650e+00,\n",
              "        -7.80313092e-01],\n",
              "       [ 6.32753742e+00, -4.87409769e-01, -2.22092650e+00,\n",
              "        -7.80313092e-01],\n",
              "       [ 6.33669648e+00, -2.46900650e+00, -2.05365503e+00,\n",
              "         3.16971771e+00],\n",
              "       [-2.62133990e+00, -1.26506877e-01,  4.78931801e-01,\n",
              "        -9.79190943e-02],\n",
              "       [-3.00072123e+00,  1.56100445e-01,  4.52191069e-01,\n",
              "        -5.86649747e-02],\n",
              "       [-2.99709494e+00,  1.56481687e-01,  4.51692383e-01,\n",
              "        -5.83555945e-02],\n",
              "       [-2.74523496e+00,  2.16983802e-01,  5.30686374e-01,\n",
              "        -1.57128161e-01],\n",
              "       [-2.69010336e+00,  2.14269613e-01,  5.56633861e-01,\n",
              "        -7.89163296e-02],\n",
              "       [-8.90293253e-01, -2.12898617e+00, -7.38935998e-01,\n",
              "        -4.83822145e-01],\n",
              "       [-8.90293253e-01, -2.12898617e+00, -7.38935998e-01,\n",
              "        -4.83822145e-01],\n",
              "       [-8.86666960e-01, -2.12860492e+00, -7.39434684e-01,\n",
              "        -4.83512765e-01],\n",
              "       [-4.13870134e-01, -2.39325649e+00, -1.02204781e+00,\n",
              "        -3.19858570e-01],\n",
              "       [-9.18046802e-02,  1.66655916e-01,  1.91452944e-01,\n",
              "        -5.27335193e-02],\n",
              "       [ 2.19659127e-02,  3.71412978e-01,  5.77299118e-01,\n",
              "        -3.74434322e-01],\n",
              "       [-9.18046802e-02,  1.66655916e-01,  1.91452944e-01,\n",
              "        -5.27335193e-02],\n",
              "       [ 2.19659127e-02,  3.71412978e-01,  5.77299118e-01,\n",
              "        -3.74434322e-01],\n",
              "       [-7.75270185e-01,  4.91750637e+00, -8.27811415e-01,\n",
              "         6.03793473e-01],\n",
              "       [ 3.28447942e-02,  3.72556706e-01,  5.75803060e-01,\n",
              "        -3.73506181e-01],\n",
              "       [ 1.61755366e+00, -6.29420299e-01,  8.23293516e-01,\n",
              "         4.97811318e-01],\n",
              "       [ 2.45080936e-01,  4.93059686e+00, -1.34612724e+00,\n",
              "         7.13832776e-01],\n",
              "       [ 4.38789948e+00,  4.23829635e+00, -1.18832026e+00,\n",
              "         1.28535138e-01],\n",
              "       [ 4.67522755e+00,  4.50414357e+00, -7.37121205e-01,\n",
              "        -2.52004519e-01],\n",
              "       [ 4.01823089e+00,  3.92434824e+00, -1.67170219e+00,\n",
              "         6.09410922e-01],\n",
              "       [ 5.42403749e+00,  4.55701129e+00, -9.83075297e-01,\n",
              "        -2.96825045e-01],\n",
              "       [ 6.11660962e+00, -8.32908785e-02,  1.03327281e+00,\n",
              "        -5.37486699e-01],\n",
              "       [ 3.94095930e+00, -1.55656170e+00, -1.00349487e+00,\n",
              "         1.69876809e+00],\n",
              "       [ 8.13230317e+00, -3.79224087e-02,  4.80996280e-01,\n",
              "        -5.69956497e-02],\n",
              "       [ 7.22607182e+00, -5.37079563e-01, -1.41613006e-01,\n",
              "         6.51583351e-01],\n",
              "       [ 2.69031116e+00, -1.01243915e+00,  5.61675062e-01,\n",
              "         6.58656922e-01],\n",
              "       [-3.72357397e+00, -1.37440452e-01, -6.44913818e-01,\n",
              "        -9.00099755e-02],\n",
              "       [-3.26587286e+00, -4.96224275e-01, -6.31893954e-01,\n",
              "        -1.30631632e-01],\n",
              "       [-3.22235734e+00, -4.91649365e-01, -6.37878185e-01,\n",
              "        -1.26919070e-01],\n",
              "       [-2.13678496e+00, -1.50491884e+00, -1.07729578e+00,\n",
              "        -1.95151771e-01],\n",
              "       [-7.47487769e-01, -1.50363536e+00, -1.37650554e+00,\n",
              "        -1.54620115e-01],\n",
              "       [-8.00467264e-01, -6.87216840e-01, -1.07923853e+00,\n",
              "         6.00090832e-01],\n",
              "       [ 1.43688423e+00, -1.53625463e+00, -2.11229721e+00,\n",
              "         4.50445208e-01],\n",
              "       [ 1.51100807e+00, -1.53016384e+00, -2.11578485e+00,\n",
              "         4.71470789e-01],\n",
              "       [ 1.51463436e+00, -1.52978260e+00, -2.11628354e+00,\n",
              "         4.71780170e-01],\n",
              "       [-6.74105334e-01, -4.40943621e-01, -6.14757763e-01,\n",
              "         2.15189143e-01],\n",
              "       [-6.45094983e-01, -4.37893681e-01, -6.18747250e-01,\n",
              "         2.17664184e-01],\n",
              "       [-6.24026874e-01, -1.25766713e+00, -9.11625823e-01,\n",
              "        -5.39769308e-01],\n",
              "       [-6.24026874e-01, -1.25766713e+00, -9.11625823e-01,\n",
              "        -5.39769308e-01],\n",
              "       [-2.58285694e+00,  1.71493112e-01,  3.23462680e-01,\n",
              "        -4.24705090e-01],\n",
              "       [-3.64846571e+00,  5.01259735e+00, -1.47076889e+00,\n",
              "         2.95590565e-01],\n",
              "       [-2.56182444e+00,  1.73704318e-01,  3.20570301e-01,\n",
              "        -4.22910685e-01],\n",
              "       [-2.54731926e+00,  1.75229288e-01,  3.18575558e-01,\n",
              "        -4.21673164e-01],\n",
              "       [-2.39626645e+00,  1.05652217e-01,  1.47061604e-01,\n",
              "        -3.01200063e-01],\n",
              "       [-2.53789090e+00,  1.76220519e-01,  3.17278974e-01,\n",
              "        -4.20868776e-01],\n",
              "       [-2.53712293e+00,  4.90961494e-02,  5.39392643e-02,\n",
              "        -2.04550563e-01],\n",
              "       [-2.52338572e+00,  1.77745489e-01,  3.15284230e-01,\n",
              "        -4.19631255e-01],\n",
              "       [-2.38683809e+00,  1.06643448e-01,  1.45765020e-01,\n",
              "        -3.00395674e-01],\n",
              "       [-2.61301372e+00,  4.31027300e-02,  4.02735240e-02,\n",
              "        -1.90997570e-01],\n",
              "       [-6.96032474e-01, -1.14552021e-01, -4.31083399e-02,\n",
              "        -5.79287592e-01],\n",
              "       [-7.11988167e-01, -1.16229488e-01, -4.09141218e-02,\n",
              "        -5.80648865e-01],\n",
              "       [ 2.54942997e+00, -1.06974956e+00, -5.42330864e-02,\n",
              "        -5.79715552e-02],\n",
              "       [ 2.83227021e+00, -9.20090863e-01,  1.72717481e-01,\n",
              "        -2.63248745e-01],\n",
              "       [ 2.36523540e+00, -8.62304344e-01, -3.18134764e-02,\n",
              "        -7.44704816e-02],\n",
              "       [ 1.50349244e+00, -1.86637641e+00, -1.71312710e+00,\n",
              "         1.44987774e+00],\n",
              "       [ 2.04584984e+00, -2.42813423e+00, -1.90560044e+00,\n",
              "         1.52689542e+00],\n",
              "       [ 2.18971224e+00, -1.54745744e+00, -1.38797031e+00,\n",
              "         9.92251677e-01],\n",
              "       [ 2.37779789e+00,  7.68879555e-02,  1.47984636e+00,\n",
              "        -9.88770253e-01],\n",
              "       [ 2.61661784e+00,  4.84792415e+00, -4.86501601e-01,\n",
              "         6.70997052e-01],\n",
              "       [ 3.31734018e+00,  6.13099774e-01,  2.21954495e+00,\n",
              "        -1.78186603e+00],\n",
              "       [ 4.10575646e+00,  4.98378942e+00,  2.81850745e-01,\n",
              "        -1.73387751e-01],\n",
              "       [ 2.20225865e+00, -2.62243408e-01,  3.53392158e+00,\n",
              "         5.38808267e-01],\n",
              "       [ 2.65650708e+00,  4.85211782e+00, -4.91987146e-01,\n",
              "         6.74400234e-01],\n",
              "       [ 3.03553525e+00,  4.85785774e-02,  3.84213173e+00,\n",
              "         1.04876601e-01],\n",
              "       [ 4.14564570e+00,  4.98798309e+00,  2.76365200e-01,\n",
              "        -1.69984568e-01],\n",
              "       [ 2.41768712e+00,  8.10816229e-02,  1.47436081e+00,\n",
              "        -9.85367070e-01],\n",
              "       [ 2.65650708e+00,  4.85211782e+00, -4.91987146e-01,\n",
              "         6.74400234e-01],\n",
              "       [ 2.94497368e+00, -9.80984445e-01,  9.05081279e-01,\n",
              "        -1.03066183e+00],\n",
              "       [-3.83882908e+00, -1.58163560e-01, -6.22638069e-01,\n",
              "        -7.08959473e-02],\n",
              "       [-2.11268260e+00, -1.48357265e+00, -1.05363640e+00,\n",
              "        -2.28037813e-01],\n",
              "       [-3.37507360e+00, -5.37732651e-01, -6.55061005e-01,\n",
              "        -7.41780439e-02],\n",
              "       [-3.05907623e+00, -4.38902987e-01, -5.06335627e-01,\n",
              "        -2.40223582e-01],\n",
              "       [-2.84884579e+00, -4.32106344e-01, -5.67627052e-01,\n",
              "        -1.86686987e-01],\n",
              "       [ 3.25921447e-01,  5.97163405e-01,  1.40466622e+00,\n",
              "        -1.56929961e+00],\n",
              "       [ 1.43630641e+00, -1.53801744e+00, -2.10551192e+00,\n",
              "         4.65097557e-01],\n",
              "       [ 1.46986422e+00, -1.76902617e+00, -7.59995891e-01,\n",
              "         1.78319292e+00],\n",
              "       [ 1.42245280e+00, -2.88081963e+00, -9.62934483e-01,\n",
              "         1.97312237e+00],\n",
              "       [ 1.42245280e+00, -2.88081963e+00, -9.62934483e-01,\n",
              "         1.97312237e+00],\n",
              "       [ 1.45436419e+00, -2.87746470e+00, -9.67322919e-01,\n",
              "         1.97584491e+00],\n",
              "       [ 1.27061047e+00, -1.32338596e+00, -1.71447599e+00,\n",
              "        -1.47669693e+00],\n",
              "       [ 8.15109047e-01, -1.89338144e+00, -2.76925565e+00,\n",
              "        -5.83119596e-01],\n",
              "       [ 1.13980891e+00, -3.59320276e-01,  1.21009200e+00,\n",
              "        -2.24146102e-01],\n",
              "       [ 1.16657528e+00, -3.57784374e-01,  1.20694336e+00,\n",
              "        -2.22169075e-01],\n",
              "       [-5.49205474e-02, -6.51202902e-01,  2.72341118e+00,\n",
              "        -2.48838524e-01],\n",
              "       [ 1.21226658e+00, -3.52980718e-01,  1.20065992e+00,\n",
              "        -2.18270885e-01],\n",
              "       [ 1.77495579e+00, -1.05498949e+00,  8.25920784e-01,\n",
              "        -3.09739515e-01],\n",
              "       [ 1.80324088e+00, -1.05201580e+00,  8.22031034e-01,\n",
              "        -3.07326349e-01],\n",
              "       [-2.45667576e+00, -2.28149730e-01,  2.28886076e+00,\n",
              "         2.30711286e+00],\n",
              "       [-1.58644306e+00, -1.90179829e-01,  1.81215695e+00,\n",
              "         2.32815148e+00],\n",
              "       [-1.39822167e+00,  3.45693445e-02,  2.20866338e+00,\n",
              "         1.99270171e+00],\n",
              "       [-1.33202260e+00,  1.67375506e-01,  1.53585558e+00,\n",
              "         1.85891310e+00],\n",
              "       [-8.31275599e-01,  1.66026004e-01,  1.66161674e+00,\n",
              "         2.18829535e+00],\n",
              "       [-6.45777568e-01, -6.92460976e-01,  1.37566619e+00,\n",
              "         1.47770374e+00],\n",
              "       [-1.05176969e-01, -4.36112185e-01,  1.97036377e+00,\n",
              "         1.44879596e+00],\n",
              "       [ 6.06203504e-03, -6.44525671e-01,  1.82596605e+00,\n",
              "         1.52905940e+00],\n",
              "       [-7.33448509e-01, -1.67604713e-01,  1.68732732e+00,\n",
              "         1.70910982e+00],\n",
              "       [-4.05547604e-01, -6.99805096e-01,  1.48634102e+00,\n",
              "         1.37493143e+00],\n",
              "       [-1.50704341e-01, -2.63754297e-01,  2.09700648e+00,\n",
              "         1.34155806e+00],\n",
              "       [ 5.18984047e-01, -8.05264957e-01,  1.97773818e+00,\n",
              "         1.37970779e+00],\n",
              "       [-3.13964195e+00,  6.17965195e-01,  9.58725422e-01,\n",
              "         1.97264905e-01],\n",
              "       [-2.85541953e+00,  4.15758333e-01,  9.60088381e-01,\n",
              "         1.77375534e-01],\n",
              "       [-2.87355100e+00,  4.13852120e-01,  9.62581811e-01,\n",
              "         1.75828633e-01],\n",
              "       [-2.07035999e+00,  1.00041880e+00,  2.05068290e+00,\n",
              "        -7.83352191e-01],\n",
              "       [-1.62585532e+00,  6.58339448e-01,  2.07077476e+00,\n",
              "        -8.25470262e-01],\n",
              "       [-1.03114313e+00,  7.20863216e-01,  1.98899027e+00,\n",
              "        -7.74731909e-01],\n",
              "       [-2.20238778e+00,  1.93074881e-01,  6.93985057e-01,\n",
              "         5.75471289e-01],\n",
              "       [-2.19270710e+00,  1.72670855e-01,  6.48043571e-01,\n",
              "         6.13120230e-01],\n",
              "       [-1.74457184e+00,  4.21204460e+00, -1.32154909e+00,\n",
              "         1.31625819e+00],\n",
              "       [-2.48182881e+00,  4.73700941e+00, -1.40714827e+00,\n",
              "         1.42407785e+00],\n",
              "       [-3.06746357e+00,  8.79749783e-01,  6.50510001e-01,\n",
              "         6.61749342e-01],\n",
              "       [-1.94053783e+00, -1.48139953e-02,  6.59071697e-01,\n",
              "         5.90125667e-01],\n",
              "       [-1.92748318e+00, -1.34415223e-02,  6.57276427e-01,\n",
              "         5.91239436e-01],\n",
              "       [-2.02531331e+00, -2.68547997e-02,  6.06618872e-01,\n",
              "         6.76155547e-01],\n",
              "       [-1.99992926e+00, -2.41861022e-02,  6.03128070e-01,\n",
              "         6.78321208e-01],\n",
              "       [-1.53707162e+00, -1.89221362e+00, -2.59904231e-01,\n",
              "        -8.46602221e-01],\n",
              "       [-1.51168756e+00, -1.88954492e+00, -2.63395032e-01,\n",
              "        -8.44436560e-01],\n",
              "       [ 6.08950229e-01, -3.44233184e-01, -6.66199504e-01,\n",
              "         7.64847200e-01],\n",
              "       [ 6.06049194e-01, -3.44538178e-01, -6.65800555e-01,\n",
              "         7.64599696e-01],\n",
              "       [ 6.16928075e-01, -3.43394450e-01, -6.67296613e-01,\n",
              "         7.65527836e-01],\n",
              "       [ 7.09761198e-01, -3.33634643e-01, -6.80062973e-01,\n",
              "         7.73447969e-01],\n",
              "       [ 7.35145254e-01, -3.30965945e-01, -6.83553775e-01,\n",
              "         7.75613631e-01],\n",
              "       [ 9.77570639e-01, -1.98370170e-01, -4.93840957e-01,\n",
              "         6.12181220e-01],\n",
              "       [-6.24185351e-02,  1.07036100e+00,  2.98362654e-01,\n",
              "        -1.61685856e-01],\n",
              "       [-5.83049522e-02,  4.42355060e+00, -7.59891169e-01,\n",
              "         4.79855424e-01],\n",
              "       [ 1.42782570e-01,  8.10010200e-01,  8.26060840e-02,\n",
              "         4.40341242e-03],\n",
              "       [ 1.95915416e-01,  9.22705117e-01,  2.98350308e-01,\n",
              "        -1.75178645e-01],\n",
              "       [ 1.74693955e-01,  8.13365134e-01,  7.82176477e-02,\n",
              "         7.12595819e-03],\n",
              "       [ 2.27831633e+00, -1.06110044e+00, -9.18446506e-01,\n",
              "        -6.57797021e-02],\n",
              "       [ 2.35635254e+00, -1.10112305e+00, -9.21613913e-01,\n",
              "        -6.79125313e-02],\n",
              "       [ 2.47236420e+00, -7.55094006e-01, -3.22471153e-01,\n",
              "        -5.23147181e-01],\n",
              "       [ 2.45623504e+00, -7.85884645e-01, -2.72213176e-01,\n",
              "        -5.77814576e-01],\n",
              "       [-2.26695092e+00,  5.02958414e+00, -9.47959795e-01,\n",
              "        -1.23635248e-01],\n",
              "       [-1.06497621e+00,  9.06981686e-02,  3.25376816e-01,\n",
              "        -9.98985677e-01],\n",
              "       [-2.26477514e+00,  5.02981289e+00, -9.48259006e-01,\n",
              "        -1.23449620e-01],\n",
              "       [-1.06280044e+00,  9.09269141e-02,  3.25077604e-01,\n",
              "        -9.98800049e-01],\n",
              "       [-1.01710914e+00,  9.57305695e-02,  3.18794161e-01,\n",
              "        -9.94901859e-01],\n",
              "       [-1.84996586e+00,  5.02219159e+00, -9.58744681e-01,\n",
              "         1.85558253e-01],\n",
              "       [-7.81084752e-01, -1.71974722e-01,  1.02334122e-01,\n",
              "        -1.15577934e+00],\n",
              "       [-1.38372942e+00, -7.36087460e-01,  4.82680539e-02,\n",
              "        -8.89605911e-01],\n",
              "       [-1.47870294e+00, -1.17179469e+00, -7.81596539e-01,\n",
              "        -2.11765888e-01],\n",
              "       [ 1.09850056e+00, -8.55810867e-01,  9.53659616e-03,\n",
              "        -1.29416860e+00],\n",
              "       [-6.65158592e-01,  4.88273633e+00, -9.35696000e-01,\n",
              "        -4.97651694e-02],\n",
              "       [ 9.92277697e-02, -1.09041391e-01,  2.75190245e-01,\n",
              "        -1.47065157e+00],\n",
              "       [ 2.10633281e+00, -1.54503782e-01,  1.15941745e+00,\n",
              "        -2.80595112e-01],\n",
              "       [ 2.26388708e+00,  1.30192681e-03,  1.42771700e+00,\n",
              "        -5.06502910e-01],\n",
              "       [ 2.07398789e+00, -1.09677516e-01,  1.15630141e+00,\n",
              "        -2.74564092e-01],\n",
              "       [ 2.22066328e+00,  4.49844655e-02,  1.42609703e+00,\n",
              "        -5.01400031e-01],\n",
              "       [ 2.94761356e+00, -9.24827572e-01,  1.02591716e+00,\n",
              "        -2.68934722e-01],\n",
              "       [ 3.09791524e+00, -7.69784349e-01,  1.29521409e+00,\n",
              "        -4.95461281e-01],\n",
              "       [ 2.62938332e+00, -1.02669777e-02,  1.12104566e+00,\n",
              "        -4.53928680e-01],\n",
              "       [ 3.39100788e+00, -6.05233349e-01,  9.00479074e-01,\n",
              "        -2.61298781e-01],\n",
              "       [ 3.28085255e+00, -8.08523852e-01,  1.31966315e+00,\n",
              "        -2.64809975e-01],\n",
              "       [ 2.33971658e+00,  4.19654659e+00, -1.12030470e+00,\n",
              "        -6.78850802e-01],\n",
              "       [ 3.04995443e+00, -2.76500826e-01,  1.12404344e+00,\n",
              "        -4.80137008e-01]])"
            ]
          },
          "metadata": {},
          "execution_count": 186
        }
      ]
    },
    {
      "cell_type": "code",
      "source": [
        "pca4.explained_variance_ratio_"
      ],
      "metadata": {
        "colab": {
          "base_uri": "https://localhost:8080/"
        },
        "id": "wwyXdjWLzwWJ",
        "outputId": "6707fcf3-0e79-48e5-f9ac-ec4a9385a812"
      },
      "id": "wwyXdjWLzwWJ",
      "execution_count": 187,
      "outputs": [
        {
          "output_type": "execute_result",
          "data": {
            "text/plain": [
              "array([0.476939  , 0.21754073, 0.09076563, 0.06351376])"
            ]
          },
          "metadata": {},
          "execution_count": 187
        }
      ]
    },
    {
      "cell_type": "code",
      "source": [
        "pca1 = PCA(n_components = 1)\n",
        "pca1.fit_transform(scaled_features)\n",
        "pca1.explained_variance_ratio_"
      ],
      "metadata": {
        "colab": {
          "base_uri": "https://localhost:8080/"
        },
        "id": "J4OZ2Vtw09rc",
        "outputId": "39cdad3d-2f33-4dbc-ee75-b1a53efedee7"
      },
      "id": "J4OZ2Vtw09rc",
      "execution_count": 189,
      "outputs": [
        {
          "output_type": "execute_result",
          "data": {
            "text/plain": [
              "array([0.476939])"
            ]
          },
          "metadata": {},
          "execution_count": 189
        }
      ]
    }
  ],
  "metadata": {
    "kernelspec": {
      "display_name": "Python 3 (ipykernel)",
      "language": "python",
      "name": "python3"
    },
    "language_info": {
      "codemirror_mode": {
        "name": "ipython",
        "version": 3
      },
      "file_extension": ".py",
      "mimetype": "text/x-python",
      "name": "python",
      "nbconvert_exporter": "python",
      "pygments_lexer": "ipython3",
      "version": "3.7.3"
    },
    "colab": {
      "name": "CS746_HW3_Feature_Selection.ipynb",
      "provenance": [],
      "collapsed_sections": [],
      "include_colab_link": true
    }
  },
  "nbformat": 4,
  "nbformat_minor": 5
}